{
  "metadata": {
    "language_info": {
      "codemirror_mode": {
        "name": "python",
        "version": 3
      },
      "file_extension": ".py",
      "mimetype": "text/x-python",
      "name": "python",
      "nbconvert_exporter": "python",
      "pygments_lexer": "ipython3",
      "version": "3.8"
    },
    "kernelspec": {
      "name": "python",
      "display_name": "Python (Pyodide)",
      "language": "python"
    },
    "widgets": {
      "application/vnd.jupyter.widget-state+json": {
        "version_major": 2,
        "version_minor": 0,
        "state": {
          "5377db9895d24ab49b5537e44c25c182": {
            "model_name": "LayoutModel",
            "model_module": "@jupyter-widgets/base",
            "model_module_version": "2.0.0",
            "state": {}
          },
          "15e9b620be0146e5ab19230913186071": {
            "model_name": "HTMLMathStyleModel",
            "model_module": "@jupyter-widgets/controls",
            "model_module_version": "2.0.0",
            "state": {
              "description_width": ""
            }
          },
          "aedc4814fbc146e887022e2e80d10758": {
            "model_name": "HTMLMathModel",
            "model_module": "@jupyter-widgets/controls",
            "model_module_version": "2.0.0",
            "state": {
              "value": "<font size = '3'; font color = 'black'>$$Q=\\frac{D^3-d^3}{12}$$",
              "layout": "IPY_MODEL_5377db9895d24ab49b5537e44c25c182",
              "style": "IPY_MODEL_15e9b620be0146e5ab19230913186071"
            }
          },
          "c87209ece9204de38282503760521837": {
            "model_name": "LayoutModel",
            "model_module": "@jupyter-widgets/base",
            "model_module_version": "2.0.0",
            "state": {}
          },
          "d7fffac5bdc54b8db90d5d3c5fb8b5f1": {
            "model_name": "HTMLMathStyleModel",
            "model_module": "@jupyter-widgets/controls",
            "model_module_version": "2.0.0",
            "state": {
              "description_width": ""
            }
          },
          "39c5e31be68249c696ddf110d877e9f0": {
            "model_name": "HTMLMathModel",
            "model_module": "@jupyter-widgets/controls",
            "model_module_version": "2.0.0",
            "state": {
              "value": "<font size = '3'; font color = 'black'>$$I=\\frac{\\pi \\left(D^4-d^4\\right)}{64}$$",
              "layout": "IPY_MODEL_c87209ece9204de38282503760521837",
              "style": "IPY_MODEL_d7fffac5bdc54b8db90d5d3c5fb8b5f1"
            }
          },
          "0952e8c99f7f4d3594db71bf7767b746": {
            "model_name": "LayoutModel",
            "model_module": "@jupyter-widgets/base",
            "model_module_version": "2.0.0",
            "state": {}
          },
          "d9887d8d77aa4c3fbcb3e3b13f49561d": {
            "model_name": "HTMLMathStyleModel",
            "model_module": "@jupyter-widgets/controls",
            "model_module_version": "2.0.0",
            "state": {
              "description_width": ""
            }
          },
          "3fd0080acd4645bab1a681f1da602591": {
            "model_name": "HTMLMathModel",
            "model_module": "@jupyter-widgets/controls",
            "model_module_version": "2.0.0",
            "state": {
              "value": "<font size = '3'; font color = 'black'>$$J=\\frac{\\pi \\left(D^4-d^4\\right)}{32}$$",
              "layout": "IPY_MODEL_0952e8c99f7f4d3594db71bf7767b746",
              "style": "IPY_MODEL_d9887d8d77aa4c3fbcb3e3b13f49561d"
            }
          },
          "c7c09617429d4bb3be29f06eb18fef19": {
            "model_name": "LayoutModel",
            "model_module": "@jupyter-widgets/base",
            "model_module_version": "2.0.0",
            "state": {}
          },
          "a21a2b5a0f2f49bd89e2d9cc3648b815": {
            "model_name": "HTMLMathStyleModel",
            "model_module": "@jupyter-widgets/controls",
            "model_module_version": "2.0.0",
            "state": {
              "description_width": ""
            }
          },
          "cac8e353a35f42239e74914dc3f957cf": {
            "model_name": "HTMLMathModel",
            "model_module": "@jupyter-widgets/controls",
            "model_module_version": "2.0.0",
            "state": {
              "value": "<font size = '3'; font color = 'black'>$$A=\\frac{\\pi \\left(D^4-d^4\\right)}{4}$$",
              "layout": "IPY_MODEL_c7c09617429d4bb3be29f06eb18fef19",
              "style": "IPY_MODEL_a21a2b5a0f2f49bd89e2d9cc3648b815"
            }
          },
          "dbfc4342f5fe4230934994b5b4501e58": {
            "model_name": "LayoutModel",
            "model_module": "@jupyter-widgets/base",
            "model_module_version": "2.0.0",
            "state": {}
          },
          "1d0b3cfd58f84cec90553da67258fdd4": {
            "model_name": "HTMLMathStyleModel",
            "model_module": "@jupyter-widgets/controls",
            "model_module_version": "2.0.0",
            "state": {
              "description_width": ""
            }
          },
          "c64a458f87584f43a42ba40d726b3fea": {
            "model_name": "HTMLMathModel",
            "model_module": "@jupyter-widgets/controls",
            "model_module_version": "2.0.0",
            "state": {
              "value": "<font size = '3'; font color = 'black'>$${M_k}(x) =  - x\\sum\\limits_{i = 1}^k {{F_i}}  - \\frac{1}{2}{w_k}{(x - {x_k})^2} - x\\sum\\limits_{i = 0}^{k - 1} {{w_i}({x_{i + 1}} - {x_i})}  + {C_{{1_k}}} + {M_k}\\quad para\\;k = 1\\; \\to \\;T$$",
              "layout": "IPY_MODEL_dbfc4342f5fe4230934994b5b4501e58",
              "style": "IPY_MODEL_1d0b3cfd58f84cec90553da67258fdd4"
            }
          },
          "190af08844ed423b8a255d491947c057": {
            "model_name": "LayoutModel",
            "model_module": "@jupyter-widgets/base",
            "model_module_version": "2.0.0",
            "state": {}
          },
          "41b76a0e6de44109a6218ad77d7f4161": {
            "model_name": "HTMLMathStyleModel",
            "model_module": "@jupyter-widgets/controls",
            "model_module_version": "2.0.0",
            "state": {
              "description_width": ""
            }
          },
          "00668eb2726245afb9a45dbc2b256be9": {
            "model_name": "HTMLMathModel",
            "model_module": "@jupyter-widgets/controls",
            "model_module_version": "2.0.0",
            "state": {
              "value": "<font size = '3'; font color = 'black'>$${y_k}(x) = \\frac{{ - \\frac{{{x^3}}}{6}\\sum\\limits_{i = 1}^k {{F_i}}  - \\frac{1}{{24}}{w_k}{{(x - {x_k})}^4} - \\frac{{{x^3}}}{6}\\sum\\limits_{i = 0}^{k - 1} {{w_i}({x_{i + 1}} - {x_i})}  + \\frac{{{C_{{1_k}}}{x^2}}}{2} + \\frac{{{M_k}{x^2}}}{2} + {C_{{2_k}}}x + {C_{{3_k}}}}}{{{E_k}{I_k}}}\\;$$",
              "layout": "IPY_MODEL_190af08844ed423b8a255d491947c057",
              "style": "IPY_MODEL_41b76a0e6de44109a6218ad77d7f4161"
            }
          },
          "99ad67b20bee46f9bde10c668e063085": {
            "model_name": "LayoutModel",
            "model_module": "@jupyter-widgets/base",
            "model_module_version": "2.0.0",
            "state": {}
          },
          "b52c2480f52b4803be9802ea79533f6b": {
            "model_name": "HTMLMathStyleModel",
            "model_module": "@jupyter-widgets/controls",
            "model_module_version": "2.0.0",
            "state": {
              "description_width": ""
            }
          },
          "80db9862a0f04a8cb8ab6c5a7ad1ddf8": {
            "model_name": "HTMLMathModel",
            "model_module": "@jupyter-widgets/controls",
            "model_module_version": "2.0.0",
            "state": {
              "value": "<font size = '3'; font color = 'black'>$${\\sigma _k} = \\frac{{M{{(x)}_k}{R_k}}}{{{I_k}}}\\quad para\\;k = 1\\; \\to \\;T$$",
              "layout": "IPY_MODEL_99ad67b20bee46f9bde10c668e063085",
              "style": "IPY_MODEL_b52c2480f52b4803be9802ea79533f6b"
            }
          },
          "a0bd9427f5464a44895dca4cd17c9780": {
            "model_name": "LayoutModel",
            "model_module": "@jupyter-widgets/base",
            "model_module_version": "2.0.0",
            "state": {}
          },
          "2cdc2605a769486698811ebd0c71b08d": {
            "model_name": "HTMLMathStyleModel",
            "model_module": "@jupyter-widgets/controls",
            "model_module_version": "2.0.0",
            "state": {
              "description_width": ""
            }
          },
          "c03af137a2e94765830d70a008e70850": {
            "model_name": "HTMLMathModel",
            "model_module": "@jupyter-widgets/controls",
            "model_module_version": "2.0.0",
            "state": {
              "value": "<font size = '3'; font color = 'black'>$${\\sigma _{{{\\max }_X}}} = {K_x}\\frac{{M{{(x)}_x}{R_x}}}{{{I_x}}}\\quad para\\;x = 1\\; \\to \\;N$$",
              "layout": "IPY_MODEL_a0bd9427f5464a44895dca4cd17c9780",
              "style": "IPY_MODEL_2cdc2605a769486698811ebd0c71b08d"
            }
          },
          "a3a01dc9e7f94780a36c9b8f0ed7fdc9": {
            "model_name": "LayoutModel",
            "model_module": "@jupyter-widgets/base",
            "model_module_version": "2.0.0",
            "state": {}
          },
          "5e7fef9ca5824d6793bba977f27920fe": {
            "model_name": "HTMLMathStyleModel",
            "model_module": "@jupyter-widgets/controls",
            "model_module_version": "2.0.0",
            "state": {
              "description_width": ""
            }
          },
          "00213067f76b4ec18448a331441f56a9": {
            "model_name": "HTMLMathModel",
            "model_module": "@jupyter-widgets/controls",
            "model_module_version": "2.0.0",
            "state": {
              "value": "<font size = '3'; font color = 'black'>$${\\sigma _k} = \\frac{{S{y_k}}}{{S{e_k}}}(\\sqrt {M_k^2(x) + 4V_k^2(x)}  + \\sqrt {A_k^2(x) + 4T_k^2(x)} )\\quad para\\;k = 1\\; \\to \\;T$$",
              "layout": "IPY_MODEL_a3a01dc9e7f94780a36c9b8f0ed7fdc9",
              "style": "IPY_MODEL_5e7fef9ca5824d6793bba977f27920fe"
            }
          },
          "ade8e1407804477b861f50e29aef8a52": {
            "model_name": "LayoutModel",
            "model_module": "@jupyter-widgets/base",
            "model_module_version": "2.0.0",
            "state": {}
          },
          "5c88bd9a596d447ca7fb081977a83e6c": {
            "model_name": "HTMLMathStyleModel",
            "model_module": "@jupyter-widgets/controls",
            "model_module_version": "2.0.0",
            "state": {
              "description_width": ""
            }
          },
          "daf6b427a5e9406e9abcf4352087e726": {
            "model_name": "HTMLMathModel",
            "model_module": "@jupyter-widgets/controls",
            "model_module_version": "2.0.0",
            "state": {
              "value": "<font size = '3'; font color = 'black'>$${\\sigma _{{{\\max }_X}}} = {K_x}\\frac{{S{y_x}}}{{S{e_x}}}(\\sqrt {M_x^2(x) + 4V_x^2(x)}  + \\sqrt {A_x^2(x) + 4T_x^2(x)} )\\quad para\\;x = 1\\; \\to \\;N$$",
              "layout": "IPY_MODEL_ade8e1407804477b861f50e29aef8a52",
              "style": "IPY_MODEL_5c88bd9a596d447ca7fb081977a83e6c"
            }
          },
          "8ca2986ff8c84ff4bb036efa7f5a049a": {
            "model_name": "LayoutModel",
            "model_module": "@jupyter-widgets/base",
            "model_module_version": "2.0.0",
            "state": {}
          },
          "c2cd8ce2f79d4e0bad549be4a7b57f40": {
            "model_name": "HTMLMathStyleModel",
            "model_module": "@jupyter-widgets/controls",
            "model_module_version": "2.0.0",
            "state": {
              "description_width": ""
            }
          },
          "2041de6e2e3a400f854e924460781940": {
            "model_name": "HTMLMathModel",
            "model_module": "@jupyter-widgets/controls",
            "model_module_version": "2.0.0",
            "state": {
              "value": "<font size = '3'; font color = 'black'>$$F.S{._{estatic{o_K}}} = \\frac{{S{u_k}}}{{{\\sigma _k}}}\\quad para\\;k = 1\\; \\to \\;T$$",
              "layout": "IPY_MODEL_8ca2986ff8c84ff4bb036efa7f5a049a",
              "style": "IPY_MODEL_c2cd8ce2f79d4e0bad549be4a7b57f40"
            }
          },
          "18017c3e81d74513a84a0e35a8c784e9": {
            "model_name": "LayoutModel",
            "model_module": "@jupyter-widgets/base",
            "model_module_version": "2.0.0",
            "state": {}
          },
          "8468de36e2864fea821afe564df286a4": {
            "model_name": "HTMLMathStyleModel",
            "model_module": "@jupyter-widgets/controls",
            "model_module_version": "2.0.0",
            "state": {
              "description_width": ""
            }
          },
          "f93953f3ef2a4bfe8ebe6365515b5f11": {
            "model_name": "HTMLMathModel",
            "model_module": "@jupyter-widgets/controls",
            "model_module_version": "2.0.0",
            "state": {
              "value": "<font size = '3'; font color = 'black'>$$F.S{._{estatico\\;{{\\min }_X}}} = \\frac{{S{u_x}}}{{{\\sigma _{{{\\max }_X}}}}}\\quad para\\;x = 1\\; \\to \\;N$$",
              "layout": "IPY_MODEL_18017c3e81d74513a84a0e35a8c784e9",
              "style": "IPY_MODEL_8468de36e2864fea821afe564df286a4"
            }
          },
          "5e04410dc2e747919e3b3d6a58027b77": {
            "model_name": "LayoutModel",
            "model_module": "@jupyter-widgets/base",
            "model_module_version": "2.0.0",
            "state": {}
          },
          "5e799d0def81490c9b80808804998af0": {
            "model_name": "HTMLMathStyleModel",
            "model_module": "@jupyter-widgets/controls",
            "model_module_version": "2.0.0",
            "state": {
              "description_width": ""
            }
          },
          "5cbcf074e9ad4712bfa7beb04e959e25": {
            "model_name": "HTMLMathModel",
            "model_module": "@jupyter-widgets/controls",
            "model_module_version": "2.0.0",
            "state": {
              "value": "<font size = '3'; font color = 'black'>$$F.S{._{dinamic{o_K}}} = \\frac{{S{u_k}}}{{{\\sigma _k}}}\\quad para\\;k = 1\\; \\to \\;T$$",
              "layout": "IPY_MODEL_5e04410dc2e747919e3b3d6a58027b77",
              "style": "IPY_MODEL_5e799d0def81490c9b80808804998af0"
            }
          },
          "6c5094fdd09d4d0e802f917577a5d412": {
            "model_name": "LayoutModel",
            "model_module": "@jupyter-widgets/base",
            "model_module_version": "2.0.0",
            "state": {}
          },
          "806b4829c10e45bca129feecfe7e59b4": {
            "model_name": "HTMLMathStyleModel",
            "model_module": "@jupyter-widgets/controls",
            "model_module_version": "2.0.0",
            "state": {
              "description_width": ""
            }
          },
          "61aa64f5ff34417db91a86fa831a1dd9": {
            "model_name": "HTMLMathModel",
            "model_module": "@jupyter-widgets/controls",
            "model_module_version": "2.0.0",
            "state": {
              "value": "<font size = '3'; font color = 'black'>$$F.S{._{dinamico\\;{{\\min }_X}}} = \\frac{{S{u_x}}}{{{\\sigma _{{{\\max }_X}}}}}\\quad para\\;x = 1\\; \\to \\;N$$",
              "layout": "IPY_MODEL_6c5094fdd09d4d0e802f917577a5d412",
              "style": "IPY_MODEL_806b4829c10e45bca129feecfe7e59b4"
            }
          },
          "428152ceab6e40a28e0f0942f2de9915": {
            "model_name": "LayoutModel",
            "model_module": "@jupyter-widgets/base",
            "model_module_version": "2.0.0",
            "state": {}
          },
          "a7cedba339024a9096c7884d0721d4b1": {
            "model_name": "HTMLMathStyleModel",
            "model_module": "@jupyter-widgets/controls",
            "model_module_version": "2.0.0",
            "state": {
              "description_width": ""
            }
          },
          "09617f49fbd440c7b6f15c52d52fd001": {
            "model_name": "HTMLMathModel",
            "model_module": "@jupyter-widgets/controls",
            "model_module_version": "2.0.0",
            "state": {
              "value": "<font size = '3'; font color = 'black'>$$V.C. = \\sum\\limits_{k = 1}^T {\\int\\limits_{{N_k}}^{{N_{k + 1}}} {(y_y^2{{(x)}_k}} }  + y_z^2{(x)_k})$$",
              "layout": "IPY_MODEL_428152ceab6e40a28e0f0942f2de9915",
              "style": "IPY_MODEL_a7cedba339024a9096c7884d0721d4b1"
            }
          },
          "e8b0fd0df37f4cedaf19608bf83baa6b": {
            "model_name": "LinearScaleModel",
            "model_module": "bqplot",
            "model_module_version": "^0.5",
            "state": {
              "_model_module_version": "^0.5",
              "_view_module_version": "^0.5",
              "stabilized": false
            }
          },
          "2c403ee5b7934e648f60c9b940d3f671": {
            "model_name": "LinearScaleModel",
            "model_module": "bqplot",
            "model_module_version": "^0.5",
            "state": {
              "_model_module_version": "^0.5",
              "_view_module_version": "^0.5",
              "stabilized": false
            }
          },
          "6324cb6a375e47258d3c0e7d80870885": {
            "model_name": "GraphModel",
            "model_module": "bqplot",
            "model_module_version": "^0.5",
            "state": {
              "_model_module_version": "^0.5",
              "_view_module_version": "^0.5",
              "scales": {
                "x": "IPY_MODEL_e8b0fd0df37f4cedaf19608bf83baa6b",
                "y": "IPY_MODEL_2c403ee5b7934e648f60c9b940d3f671"
              },
              "scales_metadata": {
                "x": {
                  "orientation": "horizontal",
                  "dimension": "x"
                },
                "y": {
                  "orientation": "vertical",
                  "dimension": "y"
                },
                "color": {
                  "dimension": "color"
                },
                "link_color": {
                  "dimension": "link_color"
                }
              },
              "selected": {
                "dtype": "int32",
                "shape": [
                  1
                ],
                "type": null
              },
              "tooltip": "IPY_MODEL_00213067f76b4ec18448a331441f56a9",
              "interactions": {
                "hover": "tooltip",
                "click": "select"
              },
              "node_data": [
                {
                  "label": "Tipos de apoyo",
                  "shape": "rect",
                  "shape_attrs": {
                    "width": 170,
                    "height": 30,
                    "rx": 5,
                    "ry": 5
                  },
                  "label_display": "center",
                  "value": null,
                  "xval": 0,
                  "yval": 1,
                  "x": 680.9880439270454,
                  "y": 218.50315033853036,
                  "index": 0,
                  "vy": 0.06068846502468186,
                  "vx": -0.00152340069457364
                },
                {
                  "label": "Fuerzas",
                  "shape": "rect",
                  "shape_attrs": {
                    "width": 170,
                    "height": 30,
                    "rx": 5,
                    "ry": 5
                  },
                  "label_display": "center",
                  "value": null,
                  "xval": 0,
                  "yval": 3,
                  "x": 602.9014988589852,
                  "y": 284.5550704414436,
                  "index": 1,
                  "vy": 0.05912488163404088,
                  "vx": -0.002846032937768639
                },
                {
                  "label": "Momentos",
                  "shape": "rect",
                  "shape_attrs": {
                    "width": 170,
                    "height": 30,
                    "rx": 5,
                    "ry": 5
                  },
                  "label_display": "center",
                  "value": null,
                  "xval": 0,
                  "yval": 5,
                  "x": 603.1764890993646,
                  "y": 284.3217053386378,
                  "index": 2,
                  "vy": 0.05913038796243279,
                  "vx": -0.0028413600047497043
                },
                {
                  "label": "Numero de nodos",
                  "shape": "rect",
                  "shape_attrs": {
                    "width": 170,
                    "height": 30,
                    "rx": 5,
                    "ry": 5
                  },
                  "label_display": "center",
                  "value": null,
                  "xval": 0,
                  "yval": 7,
                  "x": 640.0347381048953,
                  "y": 253.06206241382642,
                  "index": 3,
                  "vy": 0.059868427334255,
                  "vx": -0.0022154128665658685
                },
                {
                  "label": "Condiciones de operación",
                  "shape": "rect",
                  "shape_attrs": {
                    "width": 170,
                    "height": 30,
                    "rx": 5,
                    "ry": 5
                  },
                  "label_display": "center",
                  "value": null,
                  "xval": 0,
                  "yval": 9,
                  "x": 628.195742061643,
                  "y": 300.9107079349664,
                  "index": 4,
                  "vy": 0.05963137413543546,
                  "vx": -0.0031735314039091464
                },
                {
                  "label": "Tratamiento superficial",
                  "shape": "rect",
                  "shape_attrs": {
                    "width": 170,
                    "height": 30,
                    "rx": 5,
                    "ry": 5
                  },
                  "label_display": "center",
                  "value": null,
                  "xval": 0,
                  "yval": 11,
                  "x": 628.2508661482955,
                  "y": 300.68762012304046,
                  "index": 5,
                  "vy": 0.05963247788953452,
                  "vx": -0.00316906430636571
                },
                {
                  "label": "Módulo de elasticidad",
                  "shape": "rect",
                  "shape_attrs": {
                    "width": 170,
                    "height": 30,
                    "rx": 5,
                    "ry": 5
                  },
                  "label_display": "center",
                  "value": null,
                  "xval": 50,
                  "yval": 2,
                  "x": 680.8349957427168,
                  "y": 218.6323998116123,
                  "index": 6,
                  "vy": 0.06068540043009096,
                  "vx": -0.0015259888028767764
                },
                {
                  "label": "Módulo de rigidez",
                  "shape": "rect",
                  "shape_attrs": {
                    "width": 170,
                    "height": 30,
                    "rx": 5,
                    "ry": 5
                  },
                  "label_display": "center",
                  "value": null,
                  "xval": 50,
                  "yval": 4,
                  "x": 680.6825191030987,
                  "y": 218.76116540006555,
                  "index": 7,
                  "vy": 0.06068234727996371,
                  "vx": -0.0015285672218195324
                },
                {
                  "label": "Esfuerzo de fluencia",
                  "shape": "rect",
                  "shape_attrs": {
                    "width": 170,
                    "height": 30,
                    "rx": 5,
                    "ry": 5
                  },
                  "label_display": "center",
                  "value": null,
                  "xval": 50,
                  "yval": 6,
                  "x": 680.9606371206016,
                  "y": 221.2324776920307,
                  "index": 8,
                  "vy": 0.06068791678087897,
                  "vx": -0.0015780524592787337
                },
                {
                  "label": "Esfuerzo de rotura",
                  "shape": "rect",
                  "shape_attrs": {
                    "width": 170,
                    "height": 30,
                    "rx": 5,
                    "ry": 5
                  },
                  "label_display": "center",
                  "value": null,
                  "xval": 50,
                  "yval": 8,
                  "x": 686.42503704327,
                  "y": 235.84117270795244,
                  "index": 9,
                  "vy": 0.06079733826962311,
                  "vx": -0.0018705743114184159
                },
                {
                  "label": "Densidad",
                  "shape": "rect",
                  "shape_attrs": {
                    "width": 170,
                    "height": 30,
                    "rx": 5,
                    "ry": 5
                  },
                  "label_display": "center",
                  "value": null,
                  "xval": 50,
                  "yval": 10,
                  "x": 680.5306118810071,
                  "y": 218.88944892398342,
                  "index": 10,
                  "vy": 0.06067930553170724,
                  "vx": -0.0015311359878474207
                },
                {
                  "label": "Diametro mayor",
                  "shape": "rect",
                  "shape_attrs": {
                    "width": 170,
                    "height": 30,
                    "rx": 5,
                    "ry": 5
                  },
                  "label_display": "center",
                  "value": null,
                  "xval": 100,
                  "yval": 3,
                  "x": 606.0774360437488,
                  "y": 203.87705782402062,
                  "index": 11,
                  "vy": 0.05918846008659831,
                  "vx": -0.0012305443992156383,
                  "fx": null,
                  "fy": null
                },
                {
                  "label": "Diametro menor",
                  "shape": "rect",
                  "shape_attrs": {
                    "width": 170,
                    "height": 30,
                    "rx": 5,
                    "ry": 5
                  },
                  "label_display": "center",
                  "value": null,
                  "xval": 100,
                  "yval": 5,
                  "x": 606.8893477958171,
                  "y": 204.33972048158017,
                  "index": 12,
                  "vy": 0.059204717813493526,
                  "vx": -0.001239808544056231
                },
                {
                  "label": "Longitud",
                  "shape": "rect",
                  "shape_attrs": {
                    "width": 170,
                    "height": 30,
                    "rx": 5,
                    "ry": 5
                  },
                  "label_display": "center",
                  "value": null,
                  "xval": 100,
                  "yval": 7,
                  "x": 603.4494439799604,
                  "y": 284.0900707596598,
                  "index": 13,
                  "vy": 0.05913585353534638,
                  "vx": -0.0028367217239783746,
                  "fx": null,
                  "fy": null
                },
                {
                  "label": "Redondeos",
                  "shape": "rect",
                  "shape_attrs": {
                    "width": 170,
                    "height": 30,
                    "rx": 5,
                    "ry": 5
                  },
                  "label_display": "center",
                  "value": null,
                  "xval": 100,
                  "yval": 9,
                  "x": 588.6200118114944,
                  "y": 272.9866715372923,
                  "index": 14,
                  "vy": 0.05883890834458391,
                  "vx": -0.0026143914176684825,
                  "fx": null,
                  "fy": null
                },
                {
                  "label": "Primer momento de area",
                  "shape": "rect",
                  "shape_attrs": {
                    "width": 170,
                    "height": 30,
                    "rx": 5,
                    "ry": 5
                  },
                  "label_display": "center",
                  "value": null,
                  "xval": 150,
                  "yval": 3,
                  "x": 614.5063482528982,
                  "y": 294.8603493084069,
                  "index": 15,
                  "vy": 0.059357257963975535,
                  "vx": -0.00305238241385371
                },
                {
                  "label": "Segundo momento de area",
                  "shape": "rect",
                  "shape_attrs": {
                    "width": 170,
                    "height": 30,
                    "rx": 5,
                    "ry": 5
                  },
                  "label_display": "center",
                  "value": null,
                  "xval": 150,
                  "yval": 5,
                  "x": 614.7673654830073,
                  "y": 294.48615347977545,
                  "index": 16,
                  "vy": 0.05936248447004083,
                  "vx": -0.0030448895042394894
                },
                {
                  "label": "Momento polar de inercia",
                  "shape": "rect",
                  "shape_attrs": {
                    "width": 170,
                    "height": 30,
                    "rx": 5,
                    "ry": 5
                  },
                  "label_display": "center",
                  "value": null,
                  "xval": 150,
                  "yval": 7,
                  "x": 615.0272949846317,
                  "y": 294.11606524064604,
                  "index": 17,
                  "vy": 0.059367689196429624,
                  "vx": -0.003037478844779923
                },
                {
                  "label": "Area de la seccion",
                  "shape": "rect",
                  "shape_attrs": {
                    "width": 170,
                    "height": 30,
                    "rx": 5,
                    "ry": 5
                  },
                  "label_display": "center",
                  "value": null,
                  "xval": 150,
                  "yval": 9,
                  "x": 684.2395458626385,
                  "y": 213.5884235928278,
                  "index": 18,
                  "vy": 0.06075357176661624,
                  "vx": -0.001424988079636813
                },
                {
                  "label": "Reacciones",
                  "shape": "rect",
                  "shape_attrs": {
                    "width": 170,
                    "height": 30,
                    "rx": 5,
                    "ry": 5
                  },
                  "label_display": "center",
                  "value": null,
                  "xval": 200,
                  "yval": 1,
                  "x": 677.72247940453,
                  "y": 221.13901356759297,
                  "index": 19,
                  "vy": 0.06062307623812132,
                  "vx": -0.0015761815928064249
                },
                {
                  "label": "Desplazamientos",
                  "shape": "rect",
                  "shape_attrs": {
                    "width": 170,
                    "height": 30,
                    "rx": 5,
                    "ry": 5
                  },
                  "label_display": "center",
                  "value": null,
                  "xval": 200,
                  "yval": 3,
                  "x": 606.0515076069804,
                  "y": 281.699066555129,
                  "index": 20,
                  "vy": 0.05918795649997311,
                  "vx": -0.002788843989688466
                },
                {
                  "label": "Esfuerzos estaticos",
                  "shape": "rect",
                  "shape_attrs": {
                    "width": 170,
                    "height": 30,
                    "rx": 5,
                    "ry": 5
                  },
                  "label_display": "center",
                  "value": null,
                  "xval": 200,
                  "yval": 5,
                  "x": 701.1129477935622,
                  "y": 282.70865991787605,
                  "index": 21,
                  "vy": 0.06109145682056165,
                  "vx": -0.0028090409215433877
                },
                {
                  "label": "Esfuerzos estaticos maximos",
                  "shape": "rect",
                  "shape_attrs": {
                    "width": 170,
                    "height": 30,
                    "rx": 5,
                    "ry": 5
                  },
                  "label_display": "center",
                  "value": null,
                  "xval": 200,
                  "yval": 7,
                  "x": 650.5033650554739,
                  "y": 204.32088767859872,
                  "index": 22,
                  "vy": 0.060078040229887185,
                  "vx": -0.0012394226943656494
                },
                {
                  "label": "Esfuerzos dinamicos",
                  "shape": "rect",
                  "shape_attrs": {
                    "width": 170,
                    "height": 30,
                    "rx": 5,
                    "ry": 5
                  },
                  "label_display": "center",
                  "value": null,
                  "xval": 200,
                  "yval": 9,
                  "x": 651.8573226813418,
                  "y": 205.4079133065965,
                  "index": 23,
                  "vy": 0.060105151950615165,
                  "vx": -0.0012611889079207073
                },
                {
                  "label": "Esfuerzos dinamicos maximos",
                  "shape": "rect",
                  "shape_attrs": {
                    "width": 170,
                    "height": 30,
                    "rx": 5,
                    "ry": 5
                  },
                  "label_display": "center",
                  "value": null,
                  "xval": 200,
                  "yval": 11,
                  "x": 680.1941448122226,
                  "y": 290.69027235107234,
                  "index": 24,
                  "vy": 0.06067258254558834,
                  "vx": -0.0029688680695855395
                },
                {
                  "label": "F.S. estaticos",
                  "shape": "rect",
                  "shape_attrs": {
                    "width": 170,
                    "height": 30,
                    "rx": 5,
                    "ry": 5
                  },
                  "label_display": "center",
                  "value": null,
                  "xval": 250,
                  "yval": 2,
                  "x": 603.8687515292905,
                  "y": 268.9222343107561,
                  "index": 25,
                  "vy": 0.05914424666407889,
                  "vx": -0.002533002503990556
                },
                {
                  "label": "F.S. estaticos minimos",
                  "shape": "rect",
                  "shape_attrs": {
                    "width": 170,
                    "height": 30,
                    "rx": 5,
                    "ry": 5
                  },
                  "label_display": "center",
                  "value": null,
                  "xval": 250,
                  "yval": 4,
                  "x": 617.7784432336719,
                  "y": 291.61243068159536,
                  "index": 26,
                  "vy": 0.05942277739300423,
                  "vx": -0.002987345782421047
                },
                {
                  "label": "F.S. dinamicos",
                  "shape": "rect",
                  "shape_attrs": {
                    "width": 170,
                    "height": 30,
                    "rx": 5,
                    "ry": 5
                  },
                  "label_display": "center",
                  "value": null,
                  "xval": 250,
                  "yval": 6,
                  "x": 608.9932013142552,
                  "y": 289.8967208518452,
                  "index": 27,
                  "vy": 0.05924686230378655,
                  "vx": -0.0029529923534035384
                },
                {
                  "label": "F.S. dinamicos minimos",
                  "shape": "rect",
                  "shape_attrs": {
                    "width": 170,
                    "height": 30,
                    "rx": 5,
                    "ry": 5
                  },
                  "label_display": "center",
                  "value": null,
                  "xval": 250,
                  "yval": 8,
                  "x": 595.4242520328003,
                  "y": 248.20693101726303,
                  "index": 28,
                  "vy": 0.058975150755741584,
                  "vx": -0.002118203177815392
                },
                {
                  "label": "Velocidades criticas",
                  "shape": "rect",
                  "shape_attrs": {
                    "width": 170,
                    "height": 30,
                    "rx": 5,
                    "ry": 5
                  },
                  "label_display": "center",
                  "value": null,
                  "xval": 250,
                  "yval": 10,
                  "x": 679.8685494461413,
                  "y": 219.45040702680566,
                  "index": 29,
                  "vy": 0.060666048576729324,
                  "vx": -0.0015423686856689044
                }
              ],
              "link_matrix": {
                "dtype": "float64",
                "shape": [
                  0
                ],
                "type": null
              },
              "link_data": [
                {
                  "source": {
                    "label": "Tipos de apoyo",
                    "shape": "rect",
                    "shape_attrs": {
                      "width": 170,
                      "height": 30,
                      "rx": 5,
                      "ry": 5
                    },
                    "label_display": "center",
                    "value": null,
                    "xval": 0,
                    "yval": 1,
                    "x": 680.9880439270454,
                    "y": 218.50315033853036,
                    "index": 0,
                    "vy": 0.06068846502468186,
                    "vx": -0.00152340069457364
                  },
                  "target": {
                    "label": "Desplazamientos",
                    "shape": "rect",
                    "shape_attrs": {
                      "width": 170,
                      "height": 30,
                      "rx": 5,
                      "ry": 5
                    },
                    "label_display": "center",
                    "value": null,
                    "xval": 200,
                    "yval": 3,
                    "x": 606.0515076069804,
                    "y": 281.699066555129,
                    "index": 20,
                    "vy": 0.05918795649997311,
                    "vx": -0.002788843989688466
                  },
                  "index": 0
                },
                {
                  "source": {
                    "label": "Fuerzas",
                    "shape": "rect",
                    "shape_attrs": {
                      "width": 170,
                      "height": 30,
                      "rx": 5,
                      "ry": 5
                    },
                    "label_display": "center",
                    "value": null,
                    "xval": 0,
                    "yval": 3,
                    "x": 602.9014988589852,
                    "y": 284.5550704414436,
                    "index": 1,
                    "vy": 0.05912488163404088,
                    "vx": -0.002846032937768639
                  },
                  "target": {
                    "label": "Reacciones",
                    "shape": "rect",
                    "shape_attrs": {
                      "width": 170,
                      "height": 30,
                      "rx": 5,
                      "ry": 5
                    },
                    "label_display": "center",
                    "value": null,
                    "xval": 200,
                    "yval": 1,
                    "x": 677.72247940453,
                    "y": 221.13901356759297,
                    "index": 19,
                    "vy": 0.06062307623812132,
                    "vx": -0.0015761815928064249
                  },
                  "index": 1
                },
                {
                  "source": {
                    "label": "Momentos",
                    "shape": "rect",
                    "shape_attrs": {
                      "width": 170,
                      "height": 30,
                      "rx": 5,
                      "ry": 5
                    },
                    "label_display": "center",
                    "value": null,
                    "xval": 0,
                    "yval": 5,
                    "x": 603.1764890993646,
                    "y": 284.3217053386378,
                    "index": 2,
                    "vy": 0.05913038796243279,
                    "vx": -0.0028413600047497043
                  },
                  "target": {
                    "label": "Reacciones",
                    "shape": "rect",
                    "shape_attrs": {
                      "width": 170,
                      "height": 30,
                      "rx": 5,
                      "ry": 5
                    },
                    "label_display": "center",
                    "value": null,
                    "xval": 200,
                    "yval": 1,
                    "x": 677.72247940453,
                    "y": 221.13901356759297,
                    "index": 19,
                    "vy": 0.06062307623812132,
                    "vx": -0.0015761815928064249
                  },
                  "index": 2
                },
                {
                  "source": {
                    "label": "Condiciones de operación",
                    "shape": "rect",
                    "shape_attrs": {
                      "width": 170,
                      "height": 30,
                      "rx": 5,
                      "ry": 5
                    },
                    "label_display": "center",
                    "value": null,
                    "xval": 0,
                    "yval": 9,
                    "x": 628.195742061643,
                    "y": 300.9107079349664,
                    "index": 4,
                    "vy": 0.05963137413543546,
                    "vx": -0.0031735314039091464
                  },
                  "target": {
                    "label": "Esfuerzos dinamicos",
                    "shape": "rect",
                    "shape_attrs": {
                      "width": 170,
                      "height": 30,
                      "rx": 5,
                      "ry": 5
                    },
                    "label_display": "center",
                    "value": null,
                    "xval": 200,
                    "yval": 9,
                    "x": 651.8573226813418,
                    "y": 205.4079133065965,
                    "index": 23,
                    "vy": 0.060105151950615165,
                    "vx": -0.0012611889079207073
                  },
                  "index": 3
                },
                {
                  "source": {
                    "label": "Tratamiento superficial",
                    "shape": "rect",
                    "shape_attrs": {
                      "width": 170,
                      "height": 30,
                      "rx": 5,
                      "ry": 5
                    },
                    "label_display": "center",
                    "value": null,
                    "xval": 0,
                    "yval": 11,
                    "x": 628.2508661482955,
                    "y": 300.68762012304046,
                    "index": 5,
                    "vy": 0.05963247788953452,
                    "vx": -0.00316906430636571
                  },
                  "target": {
                    "label": "Esfuerzos dinamicos",
                    "shape": "rect",
                    "shape_attrs": {
                      "width": 170,
                      "height": 30,
                      "rx": 5,
                      "ry": 5
                    },
                    "label_display": "center",
                    "value": null,
                    "xval": 200,
                    "yval": 9,
                    "x": 651.8573226813418,
                    "y": 205.4079133065965,
                    "index": 23,
                    "vy": 0.060105151950615165,
                    "vx": -0.0012611889079207073
                  },
                  "index": 4
                },
                {
                  "source": {
                    "label": "Módulo de elasticidad",
                    "shape": "rect",
                    "shape_attrs": {
                      "width": 170,
                      "height": 30,
                      "rx": 5,
                      "ry": 5
                    },
                    "label_display": "center",
                    "value": null,
                    "xval": 50,
                    "yval": 2,
                    "x": 680.8349957427168,
                    "y": 218.6323998116123,
                    "index": 6,
                    "vy": 0.06068540043009096,
                    "vx": -0.0015259888028767764
                  },
                  "target": {
                    "label": "Desplazamientos",
                    "shape": "rect",
                    "shape_attrs": {
                      "width": 170,
                      "height": 30,
                      "rx": 5,
                      "ry": 5
                    },
                    "label_display": "center",
                    "value": null,
                    "xval": 200,
                    "yval": 3,
                    "x": 606.0515076069804,
                    "y": 281.699066555129,
                    "index": 20,
                    "vy": 0.05918795649997311,
                    "vx": -0.002788843989688466
                  },
                  "index": 5
                },
                {
                  "source": {
                    "label": "Módulo de rigidez",
                    "shape": "rect",
                    "shape_attrs": {
                      "width": 170,
                      "height": 30,
                      "rx": 5,
                      "ry": 5
                    },
                    "label_display": "center",
                    "value": null,
                    "xval": 50,
                    "yval": 4,
                    "x": 680.6825191030987,
                    "y": 218.76116540006555,
                    "index": 7,
                    "vy": 0.06068234727996371,
                    "vx": -0.0015285672218195324
                  },
                  "target": {
                    "label": "Desplazamientos",
                    "shape": "rect",
                    "shape_attrs": {
                      "width": 170,
                      "height": 30,
                      "rx": 5,
                      "ry": 5
                    },
                    "label_display": "center",
                    "value": null,
                    "xval": 200,
                    "yval": 3,
                    "x": 606.0515076069804,
                    "y": 281.699066555129,
                    "index": 20,
                    "vy": 0.05918795649997311,
                    "vx": -0.002788843989688466
                  },
                  "index": 6
                },
                {
                  "source": {
                    "label": "Esfuerzo de fluencia",
                    "shape": "rect",
                    "shape_attrs": {
                      "width": 170,
                      "height": 30,
                      "rx": 5,
                      "ry": 5
                    },
                    "label_display": "center",
                    "value": null,
                    "xval": 50,
                    "yval": 6,
                    "x": 680.9606371206016,
                    "y": 221.2324776920307,
                    "index": 8,
                    "vy": 0.06068791678087897,
                    "vx": -0.0015780524592787337
                  },
                  "target": {
                    "label": "F.S. estaticos",
                    "shape": "rect",
                    "shape_attrs": {
                      "width": 170,
                      "height": 30,
                      "rx": 5,
                      "ry": 5
                    },
                    "label_display": "center",
                    "value": null,
                    "xval": 250,
                    "yval": 2,
                    "x": 603.8687515292905,
                    "y": 268.9222343107561,
                    "index": 25,
                    "vy": 0.05914424666407889,
                    "vx": -0.002533002503990556
                  },
                  "index": 7
                },
                {
                  "source": {
                    "label": "Esfuerzo de fluencia",
                    "shape": "rect",
                    "shape_attrs": {
                      "width": 170,
                      "height": 30,
                      "rx": 5,
                      "ry": 5
                    },
                    "label_display": "center",
                    "value": null,
                    "xval": 50,
                    "yval": 6,
                    "x": 680.9606371206016,
                    "y": 221.2324776920307,
                    "index": 8,
                    "vy": 0.06068791678087897,
                    "vx": -0.0015780524592787337
                  },
                  "target": {
                    "label": "F.S. estaticos minimos",
                    "shape": "rect",
                    "shape_attrs": {
                      "width": 170,
                      "height": 30,
                      "rx": 5,
                      "ry": 5
                    },
                    "label_display": "center",
                    "value": null,
                    "xval": 250,
                    "yval": 4,
                    "x": 617.7784432336719,
                    "y": 291.61243068159536,
                    "index": 26,
                    "vy": 0.05942277739300423,
                    "vx": -0.002987345782421047
                  },
                  "index": 8
                },
                {
                  "source": {
                    "label": "Esfuerzo de rotura",
                    "shape": "rect",
                    "shape_attrs": {
                      "width": 170,
                      "height": 30,
                      "rx": 5,
                      "ry": 5
                    },
                    "label_display": "center",
                    "value": null,
                    "xval": 50,
                    "yval": 8,
                    "x": 686.42503704327,
                    "y": 235.84117270795244,
                    "index": 9,
                    "vy": 0.06079733826962311,
                    "vx": -0.0018705743114184159
                  },
                  "target": {
                    "label": "F.S. dinamicos",
                    "shape": "rect",
                    "shape_attrs": {
                      "width": 170,
                      "height": 30,
                      "rx": 5,
                      "ry": 5
                    },
                    "label_display": "center",
                    "value": null,
                    "xval": 250,
                    "yval": 6,
                    "x": 608.9932013142552,
                    "y": 289.8967208518452,
                    "index": 27,
                    "vy": 0.05924686230378655,
                    "vx": -0.0029529923534035384
                  },
                  "index": 9
                },
                {
                  "source": {
                    "label": "Esfuerzo de rotura",
                    "shape": "rect",
                    "shape_attrs": {
                      "width": 170,
                      "height": 30,
                      "rx": 5,
                      "ry": 5
                    },
                    "label_display": "center",
                    "value": null,
                    "xval": 50,
                    "yval": 8,
                    "x": 686.42503704327,
                    "y": 235.84117270795244,
                    "index": 9,
                    "vy": 0.06079733826962311,
                    "vx": -0.0018705743114184159
                  },
                  "target": {
                    "label": "F.S. dinamicos minimos",
                    "shape": "rect",
                    "shape_attrs": {
                      "width": 170,
                      "height": 30,
                      "rx": 5,
                      "ry": 5
                    },
                    "label_display": "center",
                    "value": null,
                    "xval": 250,
                    "yval": 8,
                    "x": 595.4242520328003,
                    "y": 248.20693101726303,
                    "index": 28,
                    "vy": 0.058975150755741584,
                    "vx": -0.002118203177815392
                  },
                  "index": 10
                },
                {
                  "source": {
                    "label": "Densidad",
                    "shape": "rect",
                    "shape_attrs": {
                      "width": 170,
                      "height": 30,
                      "rx": 5,
                      "ry": 5
                    },
                    "label_display": "center",
                    "value": null,
                    "xval": 50,
                    "yval": 10,
                    "x": 680.5306118810071,
                    "y": 218.88944892398342,
                    "index": 10,
                    "vy": 0.06067930553170724,
                    "vx": -0.0015311359878474207
                  },
                  "target": {
                    "label": "Desplazamientos",
                    "shape": "rect",
                    "shape_attrs": {
                      "width": 170,
                      "height": 30,
                      "rx": 5,
                      "ry": 5
                    },
                    "label_display": "center",
                    "value": null,
                    "xval": 200,
                    "yval": 3,
                    "x": 606.0515076069804,
                    "y": 281.699066555129,
                    "index": 20,
                    "vy": 0.05918795649997311,
                    "vx": -0.002788843989688466
                  },
                  "index": 11
                },
                {
                  "source": {
                    "label": "Diametro mayor",
                    "shape": "rect",
                    "shape_attrs": {
                      "width": 170,
                      "height": 30,
                      "rx": 5,
                      "ry": 5
                    },
                    "label_display": "center",
                    "value": null,
                    "xval": 100,
                    "yval": 3,
                    "x": 606.0774360437488,
                    "y": 203.87705782402062,
                    "index": 11,
                    "vy": 0.05918846008659831,
                    "vx": -0.0012305443992156383,
                    "fx": null,
                    "fy": null
                  },
                  "target": {
                    "label": "Primer momento de area",
                    "shape": "rect",
                    "shape_attrs": {
                      "width": 170,
                      "height": 30,
                      "rx": 5,
                      "ry": 5
                    },
                    "label_display": "center",
                    "value": null,
                    "xval": 150,
                    "yval": 3,
                    "x": 614.5063482528982,
                    "y": 294.8603493084069,
                    "index": 15,
                    "vy": 0.059357257963975535,
                    "vx": -0.00305238241385371
                  },
                  "index": 12
                },
                {
                  "source": {
                    "label": "Diametro mayor",
                    "shape": "rect",
                    "shape_attrs": {
                      "width": 170,
                      "height": 30,
                      "rx": 5,
                      "ry": 5
                    },
                    "label_display": "center",
                    "value": null,
                    "xval": 100,
                    "yval": 3,
                    "x": 606.0774360437488,
                    "y": 203.87705782402062,
                    "index": 11,
                    "vy": 0.05918846008659831,
                    "vx": -0.0012305443992156383,
                    "fx": null,
                    "fy": null
                  },
                  "target": {
                    "label": "Segundo momento de area",
                    "shape": "rect",
                    "shape_attrs": {
                      "width": 170,
                      "height": 30,
                      "rx": 5,
                      "ry": 5
                    },
                    "label_display": "center",
                    "value": null,
                    "xval": 150,
                    "yval": 5,
                    "x": 614.7673654830073,
                    "y": 294.48615347977545,
                    "index": 16,
                    "vy": 0.05936248447004083,
                    "vx": -0.0030448895042394894
                  },
                  "index": 13
                },
                {
                  "source": {
                    "label": "Diametro mayor",
                    "shape": "rect",
                    "shape_attrs": {
                      "width": 170,
                      "height": 30,
                      "rx": 5,
                      "ry": 5
                    },
                    "label_display": "center",
                    "value": null,
                    "xval": 100,
                    "yval": 3,
                    "x": 606.0774360437488,
                    "y": 203.87705782402062,
                    "index": 11,
                    "vy": 0.05918846008659831,
                    "vx": -0.0012305443992156383,
                    "fx": null,
                    "fy": null
                  },
                  "target": {
                    "label": "Momento polar de inercia",
                    "shape": "rect",
                    "shape_attrs": {
                      "width": 170,
                      "height": 30,
                      "rx": 5,
                      "ry": 5
                    },
                    "label_display": "center",
                    "value": null,
                    "xval": 150,
                    "yval": 7,
                    "x": 615.0272949846317,
                    "y": 294.11606524064604,
                    "index": 17,
                    "vy": 0.059367689196429624,
                    "vx": -0.003037478844779923
                  },
                  "index": 14
                },
                {
                  "source": {
                    "label": "Diametro mayor",
                    "shape": "rect",
                    "shape_attrs": {
                      "width": 170,
                      "height": 30,
                      "rx": 5,
                      "ry": 5
                    },
                    "label_display": "center",
                    "value": null,
                    "xval": 100,
                    "yval": 3,
                    "x": 606.0774360437488,
                    "y": 203.87705782402062,
                    "index": 11,
                    "vy": 0.05918846008659831,
                    "vx": -0.0012305443992156383,
                    "fx": null,
                    "fy": null
                  },
                  "target": {
                    "label": "Area de la seccion",
                    "shape": "rect",
                    "shape_attrs": {
                      "width": 170,
                      "height": 30,
                      "rx": 5,
                      "ry": 5
                    },
                    "label_display": "center",
                    "value": null,
                    "xval": 150,
                    "yval": 9,
                    "x": 684.2395458626385,
                    "y": 213.5884235928278,
                    "index": 18,
                    "vy": 0.06075357176661624,
                    "vx": -0.001424988079636813
                  },
                  "index": 15
                },
                {
                  "source": {
                    "label": "Diametro menor",
                    "shape": "rect",
                    "shape_attrs": {
                      "width": 170,
                      "height": 30,
                      "rx": 5,
                      "ry": 5
                    },
                    "label_display": "center",
                    "value": null,
                    "xval": 100,
                    "yval": 5,
                    "x": 606.8893477958171,
                    "y": 204.33972048158017,
                    "index": 12,
                    "vy": 0.059204717813493526,
                    "vx": -0.001239808544056231
                  },
                  "target": {
                    "label": "Primer momento de area",
                    "shape": "rect",
                    "shape_attrs": {
                      "width": 170,
                      "height": 30,
                      "rx": 5,
                      "ry": 5
                    },
                    "label_display": "center",
                    "value": null,
                    "xval": 150,
                    "yval": 3,
                    "x": 614.5063482528982,
                    "y": 294.8603493084069,
                    "index": 15,
                    "vy": 0.059357257963975535,
                    "vx": -0.00305238241385371
                  },
                  "index": 16
                },
                {
                  "source": {
                    "label": "Diametro menor",
                    "shape": "rect",
                    "shape_attrs": {
                      "width": 170,
                      "height": 30,
                      "rx": 5,
                      "ry": 5
                    },
                    "label_display": "center",
                    "value": null,
                    "xval": 100,
                    "yval": 5,
                    "x": 606.8893477958171,
                    "y": 204.33972048158017,
                    "index": 12,
                    "vy": 0.059204717813493526,
                    "vx": -0.001239808544056231
                  },
                  "target": {
                    "label": "Segundo momento de area",
                    "shape": "rect",
                    "shape_attrs": {
                      "width": 170,
                      "height": 30,
                      "rx": 5,
                      "ry": 5
                    },
                    "label_display": "center",
                    "value": null,
                    "xval": 150,
                    "yval": 5,
                    "x": 614.7673654830073,
                    "y": 294.48615347977545,
                    "index": 16,
                    "vy": 0.05936248447004083,
                    "vx": -0.0030448895042394894
                  },
                  "index": 17
                },
                {
                  "source": {
                    "label": "Diametro menor",
                    "shape": "rect",
                    "shape_attrs": {
                      "width": 170,
                      "height": 30,
                      "rx": 5,
                      "ry": 5
                    },
                    "label_display": "center",
                    "value": null,
                    "xval": 100,
                    "yval": 5,
                    "x": 606.8893477958171,
                    "y": 204.33972048158017,
                    "index": 12,
                    "vy": 0.059204717813493526,
                    "vx": -0.001239808544056231
                  },
                  "target": {
                    "label": "Momento polar de inercia",
                    "shape": "rect",
                    "shape_attrs": {
                      "width": 170,
                      "height": 30,
                      "rx": 5,
                      "ry": 5
                    },
                    "label_display": "center",
                    "value": null,
                    "xval": 150,
                    "yval": 7,
                    "x": 615.0272949846317,
                    "y": 294.11606524064604,
                    "index": 17,
                    "vy": 0.059367689196429624,
                    "vx": -0.003037478844779923
                  },
                  "index": 18
                },
                {
                  "source": {
                    "label": "Diametro menor",
                    "shape": "rect",
                    "shape_attrs": {
                      "width": 170,
                      "height": 30,
                      "rx": 5,
                      "ry": 5
                    },
                    "label_display": "center",
                    "value": null,
                    "xval": 100,
                    "yval": 5,
                    "x": 606.8893477958171,
                    "y": 204.33972048158017,
                    "index": 12,
                    "vy": 0.059204717813493526,
                    "vx": -0.001239808544056231
                  },
                  "target": {
                    "label": "Area de la seccion",
                    "shape": "rect",
                    "shape_attrs": {
                      "width": 170,
                      "height": 30,
                      "rx": 5,
                      "ry": 5
                    },
                    "label_display": "center",
                    "value": null,
                    "xval": 150,
                    "yval": 9,
                    "x": 684.2395458626385,
                    "y": 213.5884235928278,
                    "index": 18,
                    "vy": 0.06075357176661624,
                    "vx": -0.001424988079636813
                  },
                  "index": 19
                },
                {
                  "source": {
                    "label": "Longitud",
                    "shape": "rect",
                    "shape_attrs": {
                      "width": 170,
                      "height": 30,
                      "rx": 5,
                      "ry": 5
                    },
                    "label_display": "center",
                    "value": null,
                    "xval": 100,
                    "yval": 7,
                    "x": 603.4494439799604,
                    "y": 284.0900707596598,
                    "index": 13,
                    "vy": 0.05913585353534638,
                    "vx": -0.0028367217239783746,
                    "fx": null,
                    "fy": null
                  },
                  "target": {
                    "label": "Reacciones",
                    "shape": "rect",
                    "shape_attrs": {
                      "width": 170,
                      "height": 30,
                      "rx": 5,
                      "ry": 5
                    },
                    "label_display": "center",
                    "value": null,
                    "xval": 200,
                    "yval": 1,
                    "x": 677.72247940453,
                    "y": 221.13901356759297,
                    "index": 19,
                    "vy": 0.06062307623812132,
                    "vx": -0.0015761815928064249
                  },
                  "index": 20
                },
                {
                  "source": {
                    "label": "Redondeos",
                    "shape": "rect",
                    "shape_attrs": {
                      "width": 170,
                      "height": 30,
                      "rx": 5,
                      "ry": 5
                    },
                    "label_display": "center",
                    "value": null,
                    "xval": 100,
                    "yval": 9,
                    "x": 588.6200118114944,
                    "y": 272.9866715372923,
                    "index": 14,
                    "vy": 0.05883890834458391,
                    "vx": -0.0026143914176684825,
                    "fx": null,
                    "fy": null
                  },
                  "target": {
                    "label": "Esfuerzos estaticos maximos",
                    "shape": "rect",
                    "shape_attrs": {
                      "width": 170,
                      "height": 30,
                      "rx": 5,
                      "ry": 5
                    },
                    "label_display": "center",
                    "value": null,
                    "xval": 200,
                    "yval": 7,
                    "x": 650.5033650554739,
                    "y": 204.32088767859872,
                    "index": 22,
                    "vy": 0.060078040229887185,
                    "vx": -0.0012394226943656494
                  },
                  "index": 21
                },
                {
                  "source": {
                    "label": "Redondeos",
                    "shape": "rect",
                    "shape_attrs": {
                      "width": 170,
                      "height": 30,
                      "rx": 5,
                      "ry": 5
                    },
                    "label_display": "center",
                    "value": null,
                    "xval": 100,
                    "yval": 9,
                    "x": 588.6200118114944,
                    "y": 272.9866715372923,
                    "index": 14,
                    "vy": 0.05883890834458391,
                    "vx": -0.0026143914176684825,
                    "fx": null,
                    "fy": null
                  },
                  "target": {
                    "label": "Esfuerzos dinamicos maximos",
                    "shape": "rect",
                    "shape_attrs": {
                      "width": 170,
                      "height": 30,
                      "rx": 5,
                      "ry": 5
                    },
                    "label_display": "center",
                    "value": null,
                    "xval": 200,
                    "yval": 11,
                    "x": 680.1941448122226,
                    "y": 290.69027235107234,
                    "index": 24,
                    "vy": 0.06067258254558834,
                    "vx": -0.0029688680695855395
                  },
                  "index": 22
                },
                {
                  "source": {
                    "label": "Primer momento de area",
                    "shape": "rect",
                    "shape_attrs": {
                      "width": 170,
                      "height": 30,
                      "rx": 5,
                      "ry": 5
                    },
                    "label_display": "center",
                    "value": null,
                    "xval": 150,
                    "yval": 3,
                    "x": 614.5063482528982,
                    "y": 294.8603493084069,
                    "index": 15,
                    "vy": 0.059357257963975535,
                    "vx": -0.00305238241385371
                  },
                  "target": {
                    "label": "Esfuerzos estaticos",
                    "shape": "rect",
                    "shape_attrs": {
                      "width": 170,
                      "height": 30,
                      "rx": 5,
                      "ry": 5
                    },
                    "label_display": "center",
                    "value": null,
                    "xval": 200,
                    "yval": 5,
                    "x": 701.1129477935622,
                    "y": 282.70865991787605,
                    "index": 21,
                    "vy": 0.06109145682056165,
                    "vx": -0.0028090409215433877
                  },
                  "index": 23
                },
                {
                  "source": {
                    "label": "Primer momento de area",
                    "shape": "rect",
                    "shape_attrs": {
                      "width": 170,
                      "height": 30,
                      "rx": 5,
                      "ry": 5
                    },
                    "label_display": "center",
                    "value": null,
                    "xval": 150,
                    "yval": 3,
                    "x": 614.5063482528982,
                    "y": 294.8603493084069,
                    "index": 15,
                    "vy": 0.059357257963975535,
                    "vx": -0.00305238241385371
                  },
                  "target": {
                    "label": "Esfuerzos dinamicos",
                    "shape": "rect",
                    "shape_attrs": {
                      "width": 170,
                      "height": 30,
                      "rx": 5,
                      "ry": 5
                    },
                    "label_display": "center",
                    "value": null,
                    "xval": 200,
                    "yval": 9,
                    "x": 651.8573226813418,
                    "y": 205.4079133065965,
                    "index": 23,
                    "vy": 0.060105151950615165,
                    "vx": -0.0012611889079207073
                  },
                  "index": 24
                },
                {
                  "source": {
                    "label": "Segundo momento de area",
                    "shape": "rect",
                    "shape_attrs": {
                      "width": 170,
                      "height": 30,
                      "rx": 5,
                      "ry": 5
                    },
                    "label_display": "center",
                    "value": null,
                    "xval": 150,
                    "yval": 5,
                    "x": 614.7673654830073,
                    "y": 294.48615347977545,
                    "index": 16,
                    "vy": 0.05936248447004083,
                    "vx": -0.0030448895042394894
                  },
                  "target": {
                    "label": "Esfuerzos estaticos",
                    "shape": "rect",
                    "shape_attrs": {
                      "width": 170,
                      "height": 30,
                      "rx": 5,
                      "ry": 5
                    },
                    "label_display": "center",
                    "value": null,
                    "xval": 200,
                    "yval": 5,
                    "x": 701.1129477935622,
                    "y": 282.70865991787605,
                    "index": 21,
                    "vy": 0.06109145682056165,
                    "vx": -0.0028090409215433877
                  },
                  "index": 25
                },
                {
                  "source": {
                    "label": "Segundo momento de area",
                    "shape": "rect",
                    "shape_attrs": {
                      "width": 170,
                      "height": 30,
                      "rx": 5,
                      "ry": 5
                    },
                    "label_display": "center",
                    "value": null,
                    "xval": 150,
                    "yval": 5,
                    "x": 614.7673654830073,
                    "y": 294.48615347977545,
                    "index": 16,
                    "vy": 0.05936248447004083,
                    "vx": -0.0030448895042394894
                  },
                  "target": {
                    "label": "Esfuerzos dinamicos",
                    "shape": "rect",
                    "shape_attrs": {
                      "width": 170,
                      "height": 30,
                      "rx": 5,
                      "ry": 5
                    },
                    "label_display": "center",
                    "value": null,
                    "xval": 200,
                    "yval": 9,
                    "x": 651.8573226813418,
                    "y": 205.4079133065965,
                    "index": 23,
                    "vy": 0.060105151950615165,
                    "vx": -0.0012611889079207073
                  },
                  "index": 26
                },
                {
                  "source": {
                    "label": "Momento polar de inercia",
                    "shape": "rect",
                    "shape_attrs": {
                      "width": 170,
                      "height": 30,
                      "rx": 5,
                      "ry": 5
                    },
                    "label_display": "center",
                    "value": null,
                    "xval": 150,
                    "yval": 7,
                    "x": 615.0272949846317,
                    "y": 294.11606524064604,
                    "index": 17,
                    "vy": 0.059367689196429624,
                    "vx": -0.003037478844779923
                  },
                  "target": {
                    "label": "Esfuerzos estaticos",
                    "shape": "rect",
                    "shape_attrs": {
                      "width": 170,
                      "height": 30,
                      "rx": 5,
                      "ry": 5
                    },
                    "label_display": "center",
                    "value": null,
                    "xval": 200,
                    "yval": 5,
                    "x": 701.1129477935622,
                    "y": 282.70865991787605,
                    "index": 21,
                    "vy": 0.06109145682056165,
                    "vx": -0.0028090409215433877
                  },
                  "index": 27
                },
                {
                  "source": {
                    "label": "Momento polar de inercia",
                    "shape": "rect",
                    "shape_attrs": {
                      "width": 170,
                      "height": 30,
                      "rx": 5,
                      "ry": 5
                    },
                    "label_display": "center",
                    "value": null,
                    "xval": 150,
                    "yval": 7,
                    "x": 615.0272949846317,
                    "y": 294.11606524064604,
                    "index": 17,
                    "vy": 0.059367689196429624,
                    "vx": -0.003037478844779923
                  },
                  "target": {
                    "label": "Esfuerzos dinamicos",
                    "shape": "rect",
                    "shape_attrs": {
                      "width": 170,
                      "height": 30,
                      "rx": 5,
                      "ry": 5
                    },
                    "label_display": "center",
                    "value": null,
                    "xval": 200,
                    "yval": 9,
                    "x": 651.8573226813418,
                    "y": 205.4079133065965,
                    "index": 23,
                    "vy": 0.060105151950615165,
                    "vx": -0.0012611889079207073
                  },
                  "index": 28
                },
                {
                  "source": {
                    "label": "Area de la seccion",
                    "shape": "rect",
                    "shape_attrs": {
                      "width": 170,
                      "height": 30,
                      "rx": 5,
                      "ry": 5
                    },
                    "label_display": "center",
                    "value": null,
                    "xval": 150,
                    "yval": 9,
                    "x": 684.2395458626385,
                    "y": 213.5884235928278,
                    "index": 18,
                    "vy": 0.06075357176661624,
                    "vx": -0.001424988079636813
                  },
                  "target": {
                    "label": "Desplazamientos",
                    "shape": "rect",
                    "shape_attrs": {
                      "width": 170,
                      "height": 30,
                      "rx": 5,
                      "ry": 5
                    },
                    "label_display": "center",
                    "value": null,
                    "xval": 200,
                    "yval": 3,
                    "x": 606.0515076069804,
                    "y": 281.699066555129,
                    "index": 20,
                    "vy": 0.05918795649997311,
                    "vx": -0.002788843989688466
                  },
                  "index": 29
                },
                {
                  "source": {
                    "label": "Area de la seccion",
                    "shape": "rect",
                    "shape_attrs": {
                      "width": 170,
                      "height": 30,
                      "rx": 5,
                      "ry": 5
                    },
                    "label_display": "center",
                    "value": null,
                    "xval": 150,
                    "yval": 9,
                    "x": 684.2395458626385,
                    "y": 213.5884235928278,
                    "index": 18,
                    "vy": 0.06075357176661624,
                    "vx": -0.001424988079636813
                  },
                  "target": {
                    "label": "Esfuerzos estaticos",
                    "shape": "rect",
                    "shape_attrs": {
                      "width": 170,
                      "height": 30,
                      "rx": 5,
                      "ry": 5
                    },
                    "label_display": "center",
                    "value": null,
                    "xval": 200,
                    "yval": 5,
                    "x": 701.1129477935622,
                    "y": 282.70865991787605,
                    "index": 21,
                    "vy": 0.06109145682056165,
                    "vx": -0.0028090409215433877
                  },
                  "index": 30
                },
                {
                  "source": {
                    "label": "Reacciones",
                    "shape": "rect",
                    "shape_attrs": {
                      "width": 170,
                      "height": 30,
                      "rx": 5,
                      "ry": 5
                    },
                    "label_display": "center",
                    "value": null,
                    "xval": 200,
                    "yval": 1,
                    "x": 677.72247940453,
                    "y": 221.13901356759297,
                    "index": 19,
                    "vy": 0.06062307623812132,
                    "vx": -0.0015761815928064249
                  },
                  "target": {
                    "label": "Desplazamientos",
                    "shape": "rect",
                    "shape_attrs": {
                      "width": 170,
                      "height": 30,
                      "rx": 5,
                      "ry": 5
                    },
                    "label_display": "center",
                    "value": null,
                    "xval": 200,
                    "yval": 3,
                    "x": 606.0515076069804,
                    "y": 281.699066555129,
                    "index": 20,
                    "vy": 0.05918795649997311,
                    "vx": -0.002788843989688466
                  },
                  "index": 31
                },
                {
                  "source": {
                    "label": "Desplazamientos",
                    "shape": "rect",
                    "shape_attrs": {
                      "width": 170,
                      "height": 30,
                      "rx": 5,
                      "ry": 5
                    },
                    "label_display": "center",
                    "value": null,
                    "xval": 200,
                    "yval": 3,
                    "x": 606.0515076069804,
                    "y": 281.699066555129,
                    "index": 20,
                    "vy": 0.05918795649997311,
                    "vx": -0.002788843989688466
                  },
                  "target": {
                    "label": "Reacciones",
                    "shape": "rect",
                    "shape_attrs": {
                      "width": 170,
                      "height": 30,
                      "rx": 5,
                      "ry": 5
                    },
                    "label_display": "center",
                    "value": null,
                    "xval": 200,
                    "yval": 1,
                    "x": 677.72247940453,
                    "y": 221.13901356759297,
                    "index": 19,
                    "vy": 0.06062307623812132,
                    "vx": -0.0015761815928064249
                  },
                  "index": 32
                },
                {
                  "source": {
                    "label": "Desplazamientos",
                    "shape": "rect",
                    "shape_attrs": {
                      "width": 170,
                      "height": 30,
                      "rx": 5,
                      "ry": 5
                    },
                    "label_display": "center",
                    "value": null,
                    "xval": 200,
                    "yval": 3,
                    "x": 606.0515076069804,
                    "y": 281.699066555129,
                    "index": 20,
                    "vy": 0.05918795649997311,
                    "vx": -0.002788843989688466
                  },
                  "target": {
                    "label": "Esfuerzos estaticos",
                    "shape": "rect",
                    "shape_attrs": {
                      "width": 170,
                      "height": 30,
                      "rx": 5,
                      "ry": 5
                    },
                    "label_display": "center",
                    "value": null,
                    "xval": 200,
                    "yval": 5,
                    "x": 701.1129477935622,
                    "y": 282.70865991787605,
                    "index": 21,
                    "vy": 0.06109145682056165,
                    "vx": -0.0028090409215433877
                  },
                  "index": 33
                },
                {
                  "source": {
                    "label": "Desplazamientos",
                    "shape": "rect",
                    "shape_attrs": {
                      "width": 170,
                      "height": 30,
                      "rx": 5,
                      "ry": 5
                    },
                    "label_display": "center",
                    "value": null,
                    "xval": 200,
                    "yval": 3,
                    "x": 606.0515076069804,
                    "y": 281.699066555129,
                    "index": 20,
                    "vy": 0.05918795649997311,
                    "vx": -0.002788843989688466
                  },
                  "target": {
                    "label": "Esfuerzos dinamicos",
                    "shape": "rect",
                    "shape_attrs": {
                      "width": 170,
                      "height": 30,
                      "rx": 5,
                      "ry": 5
                    },
                    "label_display": "center",
                    "value": null,
                    "xval": 200,
                    "yval": 9,
                    "x": 651.8573226813418,
                    "y": 205.4079133065965,
                    "index": 23,
                    "vy": 0.060105151950615165,
                    "vx": -0.0012611889079207073
                  },
                  "index": 34
                },
                {
                  "source": {
                    "label": "Desplazamientos",
                    "shape": "rect",
                    "shape_attrs": {
                      "width": 170,
                      "height": 30,
                      "rx": 5,
                      "ry": 5
                    },
                    "label_display": "center",
                    "value": null,
                    "xval": 200,
                    "yval": 3,
                    "x": 606.0515076069804,
                    "y": 281.699066555129,
                    "index": 20,
                    "vy": 0.05918795649997311,
                    "vx": -0.002788843989688466
                  },
                  "target": {
                    "label": "Velocidades criticas",
                    "shape": "rect",
                    "shape_attrs": {
                      "width": 170,
                      "height": 30,
                      "rx": 5,
                      "ry": 5
                    },
                    "label_display": "center",
                    "value": null,
                    "xval": 250,
                    "yval": 10,
                    "x": 679.8685494461413,
                    "y": 219.45040702680566,
                    "index": 29,
                    "vy": 0.060666048576729324,
                    "vx": -0.0015423686856689044
                  },
                  "index": 35
                },
                {
                  "source": {
                    "label": "Esfuerzos estaticos",
                    "shape": "rect",
                    "shape_attrs": {
                      "width": 170,
                      "height": 30,
                      "rx": 5,
                      "ry": 5
                    },
                    "label_display": "center",
                    "value": null,
                    "xval": 200,
                    "yval": 5,
                    "x": 701.1129477935622,
                    "y": 282.70865991787605,
                    "index": 21,
                    "vy": 0.06109145682056165,
                    "vx": -0.0028090409215433877
                  },
                  "target": {
                    "label": "Esfuerzos estaticos maximos",
                    "shape": "rect",
                    "shape_attrs": {
                      "width": 170,
                      "height": 30,
                      "rx": 5,
                      "ry": 5
                    },
                    "label_display": "center",
                    "value": null,
                    "xval": 200,
                    "yval": 7,
                    "x": 650.5033650554739,
                    "y": 204.32088767859872,
                    "index": 22,
                    "vy": 0.060078040229887185,
                    "vx": -0.0012394226943656494
                  },
                  "index": 36
                },
                {
                  "source": {
                    "label": "Esfuerzos estaticos",
                    "shape": "rect",
                    "shape_attrs": {
                      "width": 170,
                      "height": 30,
                      "rx": 5,
                      "ry": 5
                    },
                    "label_display": "center",
                    "value": null,
                    "xval": 200,
                    "yval": 5,
                    "x": 701.1129477935622,
                    "y": 282.70865991787605,
                    "index": 21,
                    "vy": 0.06109145682056165,
                    "vx": -0.0028090409215433877
                  },
                  "target": {
                    "label": "F.S. estaticos",
                    "shape": "rect",
                    "shape_attrs": {
                      "width": 170,
                      "height": 30,
                      "rx": 5,
                      "ry": 5
                    },
                    "label_display": "center",
                    "value": null,
                    "xval": 250,
                    "yval": 2,
                    "x": 603.8687515292905,
                    "y": 268.9222343107561,
                    "index": 25,
                    "vy": 0.05914424666407889,
                    "vx": -0.002533002503990556
                  },
                  "index": 37
                },
                {
                  "source": {
                    "label": "Esfuerzos estaticos maximos",
                    "shape": "rect",
                    "shape_attrs": {
                      "width": 170,
                      "height": 30,
                      "rx": 5,
                      "ry": 5
                    },
                    "label_display": "center",
                    "value": null,
                    "xval": 200,
                    "yval": 7,
                    "x": 650.5033650554739,
                    "y": 204.32088767859872,
                    "index": 22,
                    "vy": 0.060078040229887185,
                    "vx": -0.0012394226943656494
                  },
                  "target": {
                    "label": "F.S. estaticos minimos",
                    "shape": "rect",
                    "shape_attrs": {
                      "width": 170,
                      "height": 30,
                      "rx": 5,
                      "ry": 5
                    },
                    "label_display": "center",
                    "value": null,
                    "xval": 250,
                    "yval": 4,
                    "x": 617.7784432336719,
                    "y": 291.61243068159536,
                    "index": 26,
                    "vy": 0.05942277739300423,
                    "vx": -0.002987345782421047
                  },
                  "index": 38
                },
                {
                  "source": {
                    "label": "Esfuerzos dinamicos",
                    "shape": "rect",
                    "shape_attrs": {
                      "width": 170,
                      "height": 30,
                      "rx": 5,
                      "ry": 5
                    },
                    "label_display": "center",
                    "value": null,
                    "xval": 200,
                    "yval": 9,
                    "x": 651.8573226813418,
                    "y": 205.4079133065965,
                    "index": 23,
                    "vy": 0.060105151950615165,
                    "vx": -0.0012611889079207073
                  },
                  "target": {
                    "label": "Esfuerzos dinamicos maximos",
                    "shape": "rect",
                    "shape_attrs": {
                      "width": 170,
                      "height": 30,
                      "rx": 5,
                      "ry": 5
                    },
                    "label_display": "center",
                    "value": null,
                    "xval": 200,
                    "yval": 11,
                    "x": 680.1941448122226,
                    "y": 290.69027235107234,
                    "index": 24,
                    "vy": 0.06067258254558834,
                    "vx": -0.0029688680695855395
                  },
                  "index": 39
                },
                {
                  "source": {
                    "label": "Esfuerzos dinamicos",
                    "shape": "rect",
                    "shape_attrs": {
                      "width": 170,
                      "height": 30,
                      "rx": 5,
                      "ry": 5
                    },
                    "label_display": "center",
                    "value": null,
                    "xval": 200,
                    "yval": 9,
                    "x": 651.8573226813418,
                    "y": 205.4079133065965,
                    "index": 23,
                    "vy": 0.060105151950615165,
                    "vx": -0.0012611889079207073
                  },
                  "target": {
                    "label": "F.S. dinamicos",
                    "shape": "rect",
                    "shape_attrs": {
                      "width": 170,
                      "height": 30,
                      "rx": 5,
                      "ry": 5
                    },
                    "label_display": "center",
                    "value": null,
                    "xval": 250,
                    "yval": 6,
                    "x": 608.9932013142552,
                    "y": 289.8967208518452,
                    "index": 27,
                    "vy": 0.05924686230378655,
                    "vx": -0.0029529923534035384
                  },
                  "index": 40
                },
                {
                  "source": {
                    "label": "Esfuerzos dinamicos maximos",
                    "shape": "rect",
                    "shape_attrs": {
                      "width": 170,
                      "height": 30,
                      "rx": 5,
                      "ry": 5
                    },
                    "label_display": "center",
                    "value": null,
                    "xval": 200,
                    "yval": 11,
                    "x": 680.1941448122226,
                    "y": 290.69027235107234,
                    "index": 24,
                    "vy": 0.06067258254558834,
                    "vx": -0.0029688680695855395
                  },
                  "target": {
                    "label": "F.S. dinamicos minimos",
                    "shape": "rect",
                    "shape_attrs": {
                      "width": 170,
                      "height": 30,
                      "rx": 5,
                      "ry": 5
                    },
                    "label_display": "center",
                    "value": null,
                    "xval": 250,
                    "yval": 8,
                    "x": 595.4242520328003,
                    "y": 248.20693101726303,
                    "index": 28,
                    "vy": 0.058975150755741584,
                    "vx": -0.002118203177815392
                  },
                  "index": 41
                }
              ],
              "charge": -600,
              "link_type": "slant_line",
              "colors": [
                "#F1948A",
                "#F1948A",
                "#F1948A",
                "#F4D03F",
                "#F1948A",
                "#F1948A",
                "#82E0AA",
                "#82E0AA",
                "#82E0AA",
                "#82E0AA",
                "#82E0AA",
                "#7FB3D5",
                "#7FB3D5",
                "#7FB3D5",
                "#7FB3D5",
                "#E5E7E9",
                "#E5E7E9",
                "#E5E7E9",
                "#E5E7E9",
                "#E5E7E9",
                "#E5E7E9",
                "#E5E7E9",
                "#E5E7E9",
                "#E5E7E9",
                "#E5E7E9",
                "#E5E7E9",
                "#E5E7E9",
                "#E5E7E9",
                "#E5E7E9",
                "#E5E7E9"
              ],
              "x": {
                "dtype": "int32",
                "shape": [
                  30
                ],
                "type": null
              },
              "y": {
                "dtype": "float64",
                "shape": [
                  30
                ],
                "type": null
              },
              "link_color": {
                "dtype": "float64",
                "shape": [
                  0
                ],
                "type": null
              },
              "hovered_style": {
                "stroke": "black",
                "stroke-width": "3"
              },
              "static": false,
              "unhovered_style": {
                "opacity": "0.1"
              }
            },
            "buffers": [
              {
                "data": "DQAAAA==",
                "path": [
                  "selected",
                  "value"
                ],
                "encoding": "base64"
              },
              {
                "data": "",
                "path": [
                  "link_matrix",
                  "value"
                ],
                "encoding": "base64"
              },
              {
                "data": "AAAAAAAAAAAAAAAAAAAAAAAAAAAAAAAAMgAAADIAAAAyAAAAMgAAADIAAABkAAAAZAAAAGQAAABkAAAAlgAAAJYAAACWAAAAlgAAAMgAAADIAAAAyAAAAMgAAADIAAAAyAAAAPoAAAD6AAAA+gAAAPoAAAD6AAAA",
                "path": [
                  "x",
                  "value"
                ],
                "encoding": "base64"
              },
              {
                "data": "AAAAAAAA8D8AAAAAAAAIQAAAAAAAABRAAAAAAAAAHEAAAAAAAAAiQAAAAAAAACZAAAAAAAAAAEAAAAAAAAAQQAAAAAAAABhAAAAAAAAAIEAAAAAAAAAkQAAAAAAAAAhAAAAAAAAAFEAAAAAAAAAcQAAAAAAAACJAAAAAAAAACEAAAAAAAAAUQAAAAAAAABxAAAAAAAAAIkAAAAAAAADwPwAAAAAAAAhAAAAAAAAAFEAAAAAAAAAcQAAAAAAAACJAAAAAAAAAJkAAAAAAAAAAQAAAAAAAABBAAAAAAAAAGEAAAAAAAAAgQAAAAAAAACRA",
                "path": [
                  "y",
                  "value"
                ],
                "encoding": "base64"
              },
              {
                "data": "",
                "path": [
                  "link_color",
                  "value"
                ],
                "encoding": "base64"
              }
            ]
          },
          "676190c147f5486ba70c4e23fdcaa906": {
            "model_name": "LayoutModel",
            "model_module": "@jupyter-widgets/base",
            "model_module_version": "2.0.0",
            "state": {
              "height": "600px",
              "width": "1400px"
            }
          },
          "7b5ba351af5047828e706f0d5be7d51f": {
            "model_name": "LinearScaleModel",
            "model_module": "bqplot",
            "model_module_version": "^0.5",
            "state": {
              "_model_module_version": "^0.5",
              "_view_module_version": "^0.5",
              "allow_padding": false,
              "min": 0,
              "max": 1,
              "stabilized": false
            }
          },
          "963a1699936a491283fca2a21ec754d5": {
            "model_name": "LinearScaleModel",
            "model_module": "bqplot",
            "model_module_version": "^0.5",
            "state": {
              "_model_module_version": "^0.5",
              "_view_module_version": "^0.5",
              "allow_padding": false,
              "min": 0,
              "max": 1,
              "stabilized": false
            }
          },
          "e6b5a06c3b6e44e2b930b79296de994c": {
            "model_name": "FigureModel",
            "model_module": "bqplot",
            "model_module_version": "^0.5",
            "state": {
              "_model_module_version": "^0.5",
              "_view_module_version": "^0.5",
              "title": "Dependencias",
              "marks": [
                "IPY_MODEL_6324cb6a375e47258d3c0e7d80870885"
              ],
              "scale_x": "IPY_MODEL_7b5ba351af5047828e706f0d5be7d51f",
              "scale_y": "IPY_MODEL_963a1699936a491283fca2a21ec754d5",
              "layout": "IPY_MODEL_676190c147f5486ba70c4e23fdcaa906"
            }
          },
          "d5e1ea607f614217896261c9b94a989f": {
            "model_name": "LayoutModel",
            "model_module": "@jupyter-widgets/base",
            "model_module_version": "2.0.0",
            "state": {}
          },
          "e907c3b0b4db4918a8614e69146ae919": {
            "model_name": "HTMLMathStyleModel",
            "model_module": "@jupyter-widgets/controls",
            "model_module_version": "2.0.0",
            "state": {
              "description_width": ""
            }
          },
          "a3d9b770cf5547ddbe4d3c2ec2032cff": {
            "model_name": "HTMLMathModel",
            "model_module": "@jupyter-widgets/controls",
            "model_module_version": "2.0.0",
            "state": {
              "description": "Some HTML",
              "value": "Some math and <i>HTML</i>: \\(x^2\\) and $$\\frac{x+1}{x-1}$$",
              "placeholder": "Some HTML",
              "layout": "IPY_MODEL_d5e1ea607f614217896261c9b94a989f",
              "style": "IPY_MODEL_e907c3b0b4db4918a8614e69146ae919"
            }
          },
          "cd77a1a44bd5477385a073a107096925": {
            "model_name": "LayoutModel",
            "model_module": "@jupyter-widgets/base",
            "model_module_version": "2.0.0",
            "state": {}
          },
          "ce1a947481564c0496929a0a9d771051": {
            "model_name": "HTMLMathStyleModel",
            "model_module": "@jupyter-widgets/controls",
            "model_module_version": "2.0.0",
            "state": {
              "description_width": ""
            }
          },
          "6dc012286ba84821a97e773d8f0c64eb": {
            "model_name": "HTMLMathModel",
            "model_module": "@jupyter-widgets/controls",
            "model_module_version": "2.0.0",
            "state": {
              "description": "Some HTML",
              "value": "Some math and <i>HTML</i>: \\(x^2\\) and $\\frac{x+1}{x-1}$",
              "placeholder": "Some HTML",
              "layout": "IPY_MODEL_cd77a1a44bd5477385a073a107096925",
              "style": "IPY_MODEL_ce1a947481564c0496929a0a9d771051"
            }
          },
          "468eb8e731764b60bf422ef88922b154": {
            "model_name": "LayoutModel",
            "model_module": "@jupyter-widgets/base",
            "model_module_version": "2.0.0",
            "state": {}
          },
          "986d31820f824e168a0c345adc04e0e5": {
            "model_name": "HTMLMathStyleModel",
            "model_module": "@jupyter-widgets/controls",
            "model_module_version": "2.0.0",
            "state": {
              "description_width": ""
            }
          },
          "72aa27110d814610a754a5434dd473e3": {
            "model_name": "HTMLMathModel",
            "model_module": "@jupyter-widgets/controls",
            "model_module_version": "2.0.0",
            "state": {
              "value": "<font size = '3'; font color = 'black'>$Q=\\frac{D^3-d^3}{12}$",
              "layout": "IPY_MODEL_468eb8e731764b60bf422ef88922b154",
              "style": "IPY_MODEL_986d31820f824e168a0c345adc04e0e5"
            }
          },
          "66dc7b87ebd94ac5bf1136e9a99e43b7": {
            "model_name": "LayoutModel",
            "model_module": "@jupyter-widgets/base",
            "model_module_version": "2.0.0",
            "state": {}
          },
          "45791c9bcf184f739ce472c64f82a826": {
            "model_name": "HTMLMathStyleModel",
            "model_module": "@jupyter-widgets/controls",
            "model_module_version": "2.0.0",
            "state": {
              "description_width": ""
            }
          },
          "9d3e6108921747668ee1c8b7f31ad453": {
            "model_name": "HTMLMathModel",
            "model_module": "@jupyter-widgets/controls",
            "model_module_version": "2.0.0",
            "state": {
              "value": "<font size = '3'; font color = 'black'>$I=\\frac{\\pi \\left(D^4-d^4\\right)}{64}$",
              "layout": "IPY_MODEL_66dc7b87ebd94ac5bf1136e9a99e43b7",
              "style": "IPY_MODEL_45791c9bcf184f739ce472c64f82a826"
            }
          },
          "3fe4d69045b84ed692bb51666a2726a1": {
            "model_name": "LayoutModel",
            "model_module": "@jupyter-widgets/base",
            "model_module_version": "2.0.0",
            "state": {}
          },
          "29e67a752ece45eeb8e5782152277101": {
            "model_name": "HTMLMathStyleModel",
            "model_module": "@jupyter-widgets/controls",
            "model_module_version": "2.0.0",
            "state": {
              "description_width": ""
            }
          },
          "1b48018d94c5474a83b171949af115b7": {
            "model_name": "HTMLMathModel",
            "model_module": "@jupyter-widgets/controls",
            "model_module_version": "2.0.0",
            "state": {
              "value": "<font size = '3'; font color = 'black'>$J=\\frac{\\pi \\left(D^4-d^4\\right)}{32}$",
              "layout": "IPY_MODEL_3fe4d69045b84ed692bb51666a2726a1",
              "style": "IPY_MODEL_29e67a752ece45eeb8e5782152277101"
            }
          },
          "9368163dd35f4bcf832f53f11bed75c9": {
            "model_name": "LayoutModel",
            "model_module": "@jupyter-widgets/base",
            "model_module_version": "2.0.0",
            "state": {}
          },
          "3e37112be1cb460782484ea2d9fdefec": {
            "model_name": "HTMLMathStyleModel",
            "model_module": "@jupyter-widgets/controls",
            "model_module_version": "2.0.0",
            "state": {
              "description_width": ""
            }
          },
          "99d2bba05665495397ffa0bb7b019808": {
            "model_name": "HTMLMathModel",
            "model_module": "@jupyter-widgets/controls",
            "model_module_version": "2.0.0",
            "state": {
              "value": "<font size = '3'; font color = 'black'>$A=\\frac{\\pi \\left(D^4-d^4\\right)}{4}$",
              "layout": "IPY_MODEL_9368163dd35f4bcf832f53f11bed75c9",
              "style": "IPY_MODEL_3e37112be1cb460782484ea2d9fdefec"
            }
          },
          "4bfeaf745eaa426b95ef4a754aeb1f96": {
            "model_name": "LayoutModel",
            "model_module": "@jupyter-widgets/base",
            "model_module_version": "2.0.0",
            "state": {}
          },
          "9017ca216f294cfeb5f3e849e252f36f": {
            "model_name": "HTMLMathStyleModel",
            "model_module": "@jupyter-widgets/controls",
            "model_module_version": "2.0.0",
            "state": {
              "description_width": ""
            }
          },
          "be7d14da49514a82bd92f18b52be0cae": {
            "model_name": "HTMLMathModel",
            "model_module": "@jupyter-widgets/controls",
            "model_module_version": "2.0.0",
            "state": {
              "value": "<font size = '3'; font color = 'black'>${M_k}(x) =  - x\\sum\\limits_{i = 1}^k {{F_i}}  - \\frac{1}{2}{w_k}{(x - {x_k})^2} - x\\sum\\limits_{i = 0}^{k - 1} {{w_i}({x_{i + 1}} - {x_i})}  + {C_{{1_k}}} + {M_k}\\quad para\\;k = 1\\; \\to \\;T$",
              "layout": "IPY_MODEL_4bfeaf745eaa426b95ef4a754aeb1f96",
              "style": "IPY_MODEL_9017ca216f294cfeb5f3e849e252f36f"
            }
          },
          "92e2a627143e4433884095dc6174486c": {
            "model_name": "LayoutModel",
            "model_module": "@jupyter-widgets/base",
            "model_module_version": "2.0.0",
            "state": {}
          },
          "3d5ac00fe63c463db4175652fa3a4bef": {
            "model_name": "HTMLMathStyleModel",
            "model_module": "@jupyter-widgets/controls",
            "model_module_version": "2.0.0",
            "state": {
              "description_width": ""
            }
          },
          "6bb67781fe8a4db59e23dbd7b944dab5": {
            "model_name": "HTMLMathModel",
            "model_module": "@jupyter-widgets/controls",
            "model_module_version": "2.0.0",
            "state": {
              "value": "<font size = '3'; font color = 'black'>${y_k}(x) = \\frac{{ - \\frac{{{x^3}}}{6}\\sum\\limits_{i = 1}^k {{F_i}}  - \\frac{1}{{24}}{w_k}{{(x - {x_k})}^4} - \\frac{{{x^3}}}{6}\\sum\\limits_{i = 0}^{k - 1} {{w_i}({x_{i + 1}} - {x_i})}  + \\frac{{{C_{{1_k}}}{x^2}}}{2} + \\frac{{{M_k}{x^2}}}{2} + {C_{{2_k}}}x + {C_{{3_k}}}}}{{{E_k}{I_k}}}\\;$",
              "layout": "IPY_MODEL_92e2a627143e4433884095dc6174486c",
              "style": "IPY_MODEL_3d5ac00fe63c463db4175652fa3a4bef"
            }
          },
          "053c26cc8efa4184bc79d5ef50460541": {
            "model_name": "LayoutModel",
            "model_module": "@jupyter-widgets/base",
            "model_module_version": "2.0.0",
            "state": {}
          },
          "f2f791432da349329aeda8941d20d37b": {
            "model_name": "HTMLMathStyleModel",
            "model_module": "@jupyter-widgets/controls",
            "model_module_version": "2.0.0",
            "state": {
              "description_width": ""
            }
          },
          "d777e93349e64b6a9142f93cf3e9d768": {
            "model_name": "HTMLMathModel",
            "model_module": "@jupyter-widgets/controls",
            "model_module_version": "2.0.0",
            "state": {
              "value": "<font size = '3'; font color = 'black'>${\\sigma _k} = \\frac{{M{{(x)}_k}{R_k}}}{{{I_k}}}\\quad para\\;k = 1\\; \\to \\;T$",
              "layout": "IPY_MODEL_053c26cc8efa4184bc79d5ef50460541",
              "style": "IPY_MODEL_f2f791432da349329aeda8941d20d37b"
            }
          },
          "b2bd9f9bc88345e7a588159caded24e1": {
            "model_name": "LayoutModel",
            "model_module": "@jupyter-widgets/base",
            "model_module_version": "2.0.0",
            "state": {}
          },
          "0a72b56c982f40a0a4691c82275b4d3b": {
            "model_name": "HTMLMathStyleModel",
            "model_module": "@jupyter-widgets/controls",
            "model_module_version": "2.0.0",
            "state": {
              "description_width": ""
            }
          },
          "a112972570584350a5a3d24ee8c88093": {
            "model_name": "HTMLMathModel",
            "model_module": "@jupyter-widgets/controls",
            "model_module_version": "2.0.0",
            "state": {
              "value": "<font size = '3'; font color = 'black'>${\\sigma _{{{\\max }_X}}} = {K_x}\\frac{{M{{(x)}_x}{R_x}}}{{{I_x}}}\\quad para\\;x = 1\\; \\to \\;N$",
              "layout": "IPY_MODEL_b2bd9f9bc88345e7a588159caded24e1",
              "style": "IPY_MODEL_0a72b56c982f40a0a4691c82275b4d3b"
            }
          },
          "ca639c9afd3c465596af9aa29db40dc1": {
            "model_name": "LayoutModel",
            "model_module": "@jupyter-widgets/base",
            "model_module_version": "2.0.0",
            "state": {}
          },
          "4af696ebb75e489b944d4d5c9f7a1c67": {
            "model_name": "HTMLMathStyleModel",
            "model_module": "@jupyter-widgets/controls",
            "model_module_version": "2.0.0",
            "state": {
              "description_width": ""
            }
          },
          "4c7f1882912d47bfbdf41ecdcfa1f0e8": {
            "model_name": "HTMLMathModel",
            "model_module": "@jupyter-widgets/controls",
            "model_module_version": "2.0.0",
            "state": {
              "value": "<font size = '3'; font color = 'black'>${\\sigma _k} = \\frac{{S{y_k}}}{{S{e_k}}}(\\sqrt {M_k^2(x) + 4V_k^2(x)}  + \\sqrt {A_k^2(x) + 4T_k^2(x)} )\\quad para\\;k = 1\\; \\to \\;T$",
              "layout": "IPY_MODEL_ca639c9afd3c465596af9aa29db40dc1",
              "style": "IPY_MODEL_4af696ebb75e489b944d4d5c9f7a1c67"
            }
          },
          "7ddf7a87335447c183cfe99fcf12fb25": {
            "model_name": "LayoutModel",
            "model_module": "@jupyter-widgets/base",
            "model_module_version": "2.0.0",
            "state": {}
          },
          "d965c0dd2e814e1497d5f20b8d6a6479": {
            "model_name": "HTMLMathStyleModel",
            "model_module": "@jupyter-widgets/controls",
            "model_module_version": "2.0.0",
            "state": {
              "description_width": ""
            }
          },
          "9ebf20bb80fd44e18c0a927054b736d1": {
            "model_name": "HTMLMathModel",
            "model_module": "@jupyter-widgets/controls",
            "model_module_version": "2.0.0",
            "state": {
              "value": "<font size = '3'; font color = 'black'>${\\sigma _{{{\\max }_X}}} = {K_x}\\frac{{S{y_x}}}{{S{e_x}}}(\\sqrt {M_x^2(x) + 4V_x^2(x)}  + \\sqrt {A_x^2(x) + 4T_x^2(x)} )\\quad para\\;x = 1\\; \\to \\;N$",
              "layout": "IPY_MODEL_7ddf7a87335447c183cfe99fcf12fb25",
              "style": "IPY_MODEL_d965c0dd2e814e1497d5f20b8d6a6479"
            }
          },
          "0d3d4666c691491786b58aab00eb74a1": {
            "model_name": "LayoutModel",
            "model_module": "@jupyter-widgets/base",
            "model_module_version": "2.0.0",
            "state": {}
          },
          "a3315883425442d2a9d661b70bb150fc": {
            "model_name": "HTMLMathStyleModel",
            "model_module": "@jupyter-widgets/controls",
            "model_module_version": "2.0.0",
            "state": {
              "description_width": ""
            }
          },
          "8c37ca447b6b4ec980156082e3278c9a": {
            "model_name": "HTMLMathModel",
            "model_module": "@jupyter-widgets/controls",
            "model_module_version": "2.0.0",
            "state": {
              "value": "<font size = '3'; font color = 'black'>$F.S{._{estatic{o_K}}} = \\frac{{S{u_k}}}{{{\\sigma _k}}}\\quad para\\;k = 1\\; \\to \\;T$",
              "layout": "IPY_MODEL_0d3d4666c691491786b58aab00eb74a1",
              "style": "IPY_MODEL_a3315883425442d2a9d661b70bb150fc"
            }
          },
          "14728c1b0cee441690ebf55ad4416662": {
            "model_name": "LayoutModel",
            "model_module": "@jupyter-widgets/base",
            "model_module_version": "2.0.0",
            "state": {}
          },
          "89862eeb85c048b283355b3ce81cc1cd": {
            "model_name": "HTMLMathStyleModel",
            "model_module": "@jupyter-widgets/controls",
            "model_module_version": "2.0.0",
            "state": {
              "description_width": ""
            }
          },
          "01d61e3cf2564a3897aece043e0c8835": {
            "model_name": "HTMLMathModel",
            "model_module": "@jupyter-widgets/controls",
            "model_module_version": "2.0.0",
            "state": {
              "value": "<font size = '3'; font color = 'black'>$F.S{._{estatico\\;{{\\min }_X}}} = \\frac{{S{u_x}}}{{{\\sigma _{{{\\max }_X}}}}}\\quad para\\;x = 1\\; \\to \\;N$",
              "layout": "IPY_MODEL_14728c1b0cee441690ebf55ad4416662",
              "style": "IPY_MODEL_89862eeb85c048b283355b3ce81cc1cd"
            }
          },
          "6c3afe3c7d9848c78e0431a9434e0827": {
            "model_name": "LayoutModel",
            "model_module": "@jupyter-widgets/base",
            "model_module_version": "2.0.0",
            "state": {}
          },
          "2614d58389804d5b9586db4a2827c025": {
            "model_name": "HTMLMathStyleModel",
            "model_module": "@jupyter-widgets/controls",
            "model_module_version": "2.0.0",
            "state": {
              "description_width": ""
            }
          },
          "97b23b8358c64a629a37594e14d52da3": {
            "model_name": "HTMLMathModel",
            "model_module": "@jupyter-widgets/controls",
            "model_module_version": "2.0.0",
            "state": {
              "value": "<font size = '3'; font color = 'black'>$F.S{._{dinamic{o_K}}} = \\frac{{S{u_k}}}{{{\\sigma _k}}}\\quad para\\;k = 1\\; \\to \\;T$",
              "layout": "IPY_MODEL_6c3afe3c7d9848c78e0431a9434e0827",
              "style": "IPY_MODEL_2614d58389804d5b9586db4a2827c025"
            }
          },
          "ae611870c9c1431ca4cbf26bab6064b1": {
            "model_name": "LayoutModel",
            "model_module": "@jupyter-widgets/base",
            "model_module_version": "2.0.0",
            "state": {}
          },
          "697488781a2749ee8b5b8b038c639848": {
            "model_name": "HTMLMathStyleModel",
            "model_module": "@jupyter-widgets/controls",
            "model_module_version": "2.0.0",
            "state": {
              "description_width": ""
            }
          },
          "c0de898613044966a12d6475e4ae28a7": {
            "model_name": "HTMLMathModel",
            "model_module": "@jupyter-widgets/controls",
            "model_module_version": "2.0.0",
            "state": {
              "value": "<font size = '3'; font color = 'black'>$F.S{._{dinamico\\;{{\\min }_X}}} = \\frac{{S{u_x}}}{{{\\sigma _{{{\\max }_X}}}}}\\quad para\\;x = 1\\; \\to \\;N$",
              "layout": "IPY_MODEL_ae611870c9c1431ca4cbf26bab6064b1",
              "style": "IPY_MODEL_697488781a2749ee8b5b8b038c639848"
            }
          },
          "360bb82e2bcc411087813fa3d358d691": {
            "model_name": "LayoutModel",
            "model_module": "@jupyter-widgets/base",
            "model_module_version": "2.0.0",
            "state": {}
          },
          "c1152cb5993b4b9e9f3e08cc3dd06176": {
            "model_name": "HTMLMathStyleModel",
            "model_module": "@jupyter-widgets/controls",
            "model_module_version": "2.0.0",
            "state": {
              "description_width": ""
            }
          },
          "b0ceb2bb54ca48868bd3450bc197eabf": {
            "model_name": "HTMLMathModel",
            "model_module": "@jupyter-widgets/controls",
            "model_module_version": "2.0.0",
            "state": {
              "value": "<font size = '3'; font color = 'black'>$V.C. = \\sum\\limits_{k = 1}^T {\\int\\limits_{{N_k}}^{{N_{k + 1}}} {(y_y^2{{(x)}_k}} }  + y_z^2{(x)_k})$",
              "layout": "IPY_MODEL_360bb82e2bcc411087813fa3d358d691",
              "style": "IPY_MODEL_c1152cb5993b4b9e9f3e08cc3dd06176"
            }
          },
          "fd3cc9c22552413e8816e7fa99b60b38": {
            "model_name": "LinearScaleModel",
            "model_module": "bqplot",
            "model_module_version": "^0.5",
            "state": {
              "_model_module_version": "^0.5",
              "_view_module_version": "^0.5",
              "stabilized": false
            }
          },
          "af6a5be585a243e4821f5d8640cdf87d": {
            "model_name": "LinearScaleModel",
            "model_module": "bqplot",
            "model_module_version": "^0.5",
            "state": {
              "_model_module_version": "^0.5",
              "_view_module_version": "^0.5",
              "stabilized": false
            }
          },
          "9b0b820c240b4cbbb9a1317fb28afc21": {
            "model_name": "GraphModel",
            "model_module": "bqplot",
            "model_module_version": "^0.5",
            "state": {
              "_model_module_version": "^0.5",
              "_view_module_version": "^0.5",
              "scales": {
                "x": "IPY_MODEL_fd3cc9c22552413e8816e7fa99b60b38",
                "y": "IPY_MODEL_af6a5be585a243e4821f5d8640cdf87d"
              },
              "scales_metadata": {
                "x": {
                  "orientation": "horizontal",
                  "dimension": "x"
                },
                "y": {
                  "orientation": "vertical",
                  "dimension": "y"
                },
                "color": {
                  "dimension": "color"
                },
                "link_color": {
                  "dimension": "link_color"
                }
              },
              "tooltip": "IPY_MODEL_1b48018d94c5474a83b171949af115b7",
              "interactions": {
                "hover": "tooltip",
                "click": "select"
              },
              "node_data": [
                {
                  "label": "Tipos de apoyo",
                  "shape": "rect",
                  "shape_attrs": {
                    "width": 170,
                    "height": 30,
                    "rx": 5,
                    "ry": 5
                  },
                  "label_display": "center",
                  "value": null,
                  "xval": 0,
                  "yval": 1,
                  "x": 656.5614569557749,
                  "y": 209.3939413970259,
                  "index": 0,
                  "vy": -0.00029950124326719814,
                  "vx": -0.00009894232584030053
                },
                {
                  "label": "Fuerzas",
                  "shape": "rect",
                  "shape_attrs": {
                    "width": 170,
                    "height": 30,
                    "rx": 5,
                    "ry": 5
                  },
                  "label_display": "center",
                  "value": null,
                  "xval": 0,
                  "yval": 3,
                  "x": 668.1265194184869,
                  "y": 268.7113684187353,
                  "index": 1,
                  "vy": 0.001064976536400502,
                  "vx": 0.001211229127026632
                },
                {
                  "label": "Momentos",
                  "shape": "rect",
                  "shape_attrs": {
                    "width": 170,
                    "height": 30,
                    "rx": 5,
                    "ry": 5
                  },
                  "label_display": "center",
                  "value": null,
                  "xval": 0,
                  "yval": 5,
                  "x": 668.0607470176069,
                  "y": 268.8004986312383,
                  "index": 2,
                  "vy": 0.001064020616095307,
                  "vx": 0.0012282272112667542
                },
                {
                  "label": "Numero de nodos",
                  "shape": "rect",
                  "shape_attrs": {
                    "width": 170,
                    "height": 30,
                    "rx": 5,
                    "ry": 5
                  },
                  "label_display": "center",
                  "value": null,
                  "xval": 0,
                  "yval": 7,
                  "x": 632.7062681841898,
                  "y": 255.06204558739316,
                  "index": 3,
                  "vy": -0.00016510511408034513,
                  "vx": 0.00113391696506446
                },
                {
                  "label": "Condiciones de operación",
                  "shape": "rect",
                  "shape_attrs": {
                    "width": 170,
                    "height": 30,
                    "rx": 5,
                    "ry": 5
                  },
                  "label_display": "center",
                  "value": null,
                  "xval": 0,
                  "yval": 9,
                  "x": 656.1483807911633,
                  "y": 295.01647276170706,
                  "index": 4,
                  "vy": -0.00009427414054136457,
                  "vx": 0.0007667465047985777
                },
                {
                  "label": "Tratamiento superficial",
                  "shape": "rect",
                  "shape_attrs": {
                    "width": 170,
                    "height": 30,
                    "rx": 5,
                    "ry": 5
                  },
                  "label_display": "center",
                  "value": null,
                  "xval": 0,
                  "yval": 11,
                  "x": 655.955336621133,
                  "y": 295.10827238573125,
                  "index": 5,
                  "vy": -0.0000924948507840008,
                  "vx": 0.0007871138406118609
                },
                {
                  "label": "Módulo de elasticidad",
                  "shape": "rect",
                  "shape_attrs": {
                    "width": 170,
                    "height": 30,
                    "rx": 5,
                    "ry": 5
                  },
                  "label_display": "center",
                  "value": null,
                  "xval": 50,
                  "yval": 2,
                  "x": 658.1082833438177,
                  "y": 209.9627075816065,
                  "index": 6,
                  "vy": -0.00037347568978921534,
                  "vx": -0.00020299799099079917
                },
                {
                  "label": "Módulo de rigidez",
                  "shape": "rect",
                  "shape_attrs": {
                    "width": 170,
                    "height": 30,
                    "rx": 5,
                    "ry": 5
                  },
                  "label_display": "center",
                  "value": null,
                  "xval": 50,
                  "yval": 4,
                  "x": 660.8120191554575,
                  "y": 211.0294747545385,
                  "index": 7,
                  "vy": -0.0005056285604399028,
                  "vx": -0.00038285456275797
                },
                {
                  "label": "Esfuerzo de fluencia",
                  "shape": "rect",
                  "shape_attrs": {
                    "width": 170,
                    "height": 30,
                    "rx": 5,
                    "ry": 5
                  },
                  "label_display": "center",
                  "value": null,
                  "xval": 50,
                  "yval": 6,
                  "x": 668.7269329322502,
                  "y": 217.6550073369457,
                  "index": 8,
                  "vy": -0.0003846890939707908,
                  "vx": 0.0006214208057736847
                },
                {
                  "label": "Esfuerzo de rotura",
                  "shape": "rect",
                  "shape_attrs": {
                    "width": 170,
                    "height": 30,
                    "rx": 5,
                    "ry": 5
                  },
                  "label_display": "center",
                  "value": null,
                  "xval": 50,
                  "yval": 8,
                  "x": 661.7363034727831,
                  "y": 217.59333885485458,
                  "index": 9,
                  "vy": -0.0001449367484443906,
                  "vx": 0.0009536102676046596
                },
                {
                  "label": "Densidad",
                  "shape": "rect",
                  "shape_attrs": {
                    "width": 170,
                    "height": 30,
                    "rx": 5,
                    "ry": 5
                  },
                  "label_display": "center",
                  "value": null,
                  "xval": 50,
                  "yval": 10,
                  "x": 667.4196600763734,
                  "y": 214.06691745697427,
                  "index": 10,
                  "vy": -0.0008703899708181261,
                  "vx": -0.000800820978012602
                },
                {
                  "label": "Diametro mayor",
                  "shape": "rect",
                  "shape_attrs": {
                    "width": 170,
                    "height": 30,
                    "rx": 5,
                    "ry": 5
                  },
                  "label_display": "center",
                  "value": null,
                  "xval": 100,
                  "yval": 3,
                  "x": 579.9071670837739,
                  "y": 233.44919519476025,
                  "index": 11,
                  "vy": -0.000009807677262688293,
                  "vx": 0.0011214422224016369
                },
                {
                  "label": "Diametro menor",
                  "shape": "rect",
                  "shape_attrs": {
                    "width": 170,
                    "height": 30,
                    "rx": 5,
                    "ry": 5
                  },
                  "label_display": "center",
                  "value": null,
                  "xval": 100,
                  "yval": 5,
                  "x": 580.0494341756483,
                  "y": 233.37682207870515,
                  "index": 12,
                  "vy": -0.000006598507059252115,
                  "vx": 0.0010698742200965646
                },
                {
                  "label": "Longitud",
                  "shape": "rect",
                  "shape_attrs": {
                    "width": 170,
                    "height": 30,
                    "rx": 5,
                    "ry": 5
                  },
                  "label_display": "center",
                  "value": null,
                  "xval": 100,
                  "yval": 7,
                  "x": 668.2859800321494,
                  "y": 268.3801471432051,
                  "index": 13,
                  "vy": 0.001115707593670181,
                  "vx": 0.0012342520455925943
                },
                {
                  "label": "Redondeos",
                  "shape": "rect",
                  "shape_attrs": {
                    "width": 170,
                    "height": 30,
                    "rx": 5,
                    "ry": 5
                  },
                  "label_display": "center",
                  "value": null,
                  "xval": 100,
                  "yval": 9,
                  "x": 602.4889395978109,
                  "y": 295.98670256624837,
                  "index": 14,
                  "vy": -0.00017823783013835948,
                  "vx": 0.0011566436000834746
                },
                {
                  "label": "Primer momento de area",
                  "shape": "rect",
                  "shape_attrs": {
                    "width": 170,
                    "height": 30,
                    "rx": 5,
                    "ry": 5
                  },
                  "label_display": "center",
                  "value": null,
                  "xval": 150,
                  "yval": 3,
                  "x": 635.423541292435,
                  "y": 302.4094160060973,
                  "index": 15,
                  "vy": -0.00023528382367762624,
                  "vx": 0.0011309193572548832
                },
                {
                  "label": "Segundo momento de area",
                  "shape": "rect",
                  "shape_attrs": {
                    "width": 170,
                    "height": 30,
                    "rx": 5,
                    "ry": 5
                  },
                  "label_display": "center",
                  "value": null,
                  "xval": 150,
                  "yval": 5,
                  "x": 635.441197396676,
                  "y": 302.3674139131516,
                  "index": 16,
                  "vy": -0.00020915512381286565,
                  "vx": 0.001129443721910151
                },
                {
                  "label": "Momento polar de inercia",
                  "shape": "rect",
                  "shape_attrs": {
                    "width": 170,
                    "height": 30,
                    "rx": 5,
                    "ry": 5
                  },
                  "label_display": "center",
                  "value": null,
                  "xval": 150,
                  "yval": 7,
                  "x": 635.4589483656655,
                  "y": 302.325289897437,
                  "index": 17,
                  "vy": -0.0001829762564626814,
                  "vx": 0.001127950402814238
                },
                {
                  "label": "Area de la seccion",
                  "shape": "rect",
                  "shape_attrs": {
                    "width": 170,
                    "height": 30,
                    "rx": 5,
                    "ry": 5
                  },
                  "label_display": "center",
                  "value": null,
                  "xval": 150,
                  "yval": 9,
                  "x": 648.6245129331223,
                  "y": 198.94951998993696,
                  "index": 18,
                  "vy": 0.00004294225300551938,
                  "vx": 0.0010140723930333042
                },
                {
                  "label": "Reacciones",
                  "shape": "rect",
                  "shape_attrs": {
                    "width": 170,
                    "height": 30,
                    "rx": 5,
                    "ry": 5
                  },
                  "label_display": "center",
                  "value": null,
                  "xval": 200,
                  "yval": 1,
                  "x": 586.6914674269652,
                  "y": 219.82367805558258,
                  "index": 19,
                  "vy": -0.001057063319321069,
                  "vx": 0.0027646269936758873
                },
                {
                  "label": "Desplazamientos",
                  "shape": "rect",
                  "shape_attrs": {
                    "width": 170,
                    "height": 30,
                    "rx": 5,
                    "ry": 5
                  },
                  "label_display": "center",
                  "value": null,
                  "xval": 200,
                  "yval": 3,
                  "x": 625.9295575803148,
                  "y": 298.8966652395413,
                  "index": 20,
                  "vy": -0.0000852273788496802,
                  "vx": 0.001136919286644195
                },
                {
                  "label": "Esfuerzos estaticos",
                  "shape": "rect",
                  "shape_attrs": {
                    "width": 170,
                    "height": 30,
                    "rx": 5,
                    "ry": 5
                  },
                  "label_display": "center",
                  "value": null,
                  "xval": 200,
                  "yval": 5,
                  "x": 699.5276350154394,
                  "y": 246.14465281205153,
                  "index": 21,
                  "vy": -0.00015660951592069252,
                  "vx": 0.0010195413118533332
                },
                {
                  "label": "Esfuerzos estaticos maximos",
                  "shape": "rect",
                  "shape_attrs": {
                    "width": 170,
                    "height": 30,
                    "rx": 5,
                    "ry": 5
                  },
                  "label_display": "center",
                  "value": null,
                  "xval": 200,
                  "yval": 7,
                  "x": 616.9996584521206,
                  "y": 207.28767647744885,
                  "index": 22,
                  "vy": 0.000006206874889024862,
                  "vx": 0.0010093704809042278
                },
                {
                  "label": "Esfuerzos dinamicos",
                  "shape": "rect",
                  "shape_attrs": {
                    "width": 170,
                    "height": 30,
                    "rx": 5,
                    "ry": 5
                  },
                  "label_display": "center",
                  "value": null,
                  "xval": 200,
                  "yval": 9,
                  "x": 612.2641196624397,
                  "y": 210.89297640329073,
                  "index": 23,
                  "vy": -0.00011330616254654991,
                  "vx": 0.0012423579814732045
                },
                {
                  "label": "Esfuerzos dinamicos maximos",
                  "shape": "rect",
                  "shape_attrs": {
                    "width": 170,
                    "height": 30,
                    "rx": 5,
                    "ry": 5
                  },
                  "label_display": "center",
                  "value": null,
                  "xval": 200,
                  "yval": 11,
                  "x": 685.9416997406512,
                  "y": 260.01991787420366,
                  "index": 24,
                  "vy": -0.000008366990754300685,
                  "vx": 0.0010502696441349326
                },
                {
                  "label": "F.S. estaticos",
                  "shape": "rect",
                  "shape_attrs": {
                    "width": 170,
                    "height": 30,
                    "rx": 5,
                    "ry": 5
                  },
                  "label_display": "center",
                  "value": null,
                  "xval": 250,
                  "yval": 2,
                  "x": 605.6956812848673,
                  "y": 277.7559047970903,
                  "index": 25,
                  "vy": -0.00003839982602132689,
                  "vx": 0.0011344428814181002
                },
                {
                  "label": "F.S. estaticos minimos",
                  "shape": "rect",
                  "shape_attrs": {
                    "width": 170,
                    "height": 30,
                    "rx": 5,
                    "ry": 5
                  },
                  "label_display": "center",
                  "value": null,
                  "xval": 250,
                  "yval": 4,
                  "x": 623.2301043980925,
                  "y": 298.0855499004584,
                  "index": 26,
                  "vy": -0.00009847833604573197,
                  "vx": 0.0014400575164916277
                },
                {
                  "label": "F.S. dinamicos",
                  "shape": "rect",
                  "shape_attrs": {
                    "width": 170,
                    "height": 30,
                    "rx": 5,
                    "ry": 5
                  },
                  "label_display": "center",
                  "value": null,
                  "xval": 250,
                  "yval": 6,
                  "x": 628.4195543648219,
                  "y": 302.6117548755467,
                  "index": 27,
                  "vy": -0.0002015963828904399,
                  "vx": 0.001308627926745903
                },
                {
                  "label": "F.S. dinamicos minimos",
                  "shape": "rect",
                  "shape_attrs": {
                    "width": 170,
                    "height": 30,
                    "rx": 5,
                    "ry": 5
                  },
                  "label_display": "center",
                  "value": null,
                  "xval": 250,
                  "yval": 8,
                  "x": 593.7953493179352,
                  "y": 275.8548641210949,
                  "index": 28,
                  "vy": -0.00022555456373378962,
                  "vx": 0.0010928082013133456
                },
                {
                  "label": "Velocidades criticas",
                  "shape": "rect",
                  "shape_attrs": {
                    "width": 170,
                    "height": 30,
                    "rx": 5,
                    "ry": 5
                  },
                  "label_display": "center",
                  "value": null,
                  "xval": 250,
                  "yval": 10,
                  "x": 681.4894418884862,
                  "y": 222.97742555520742,
                  "index": 29,
                  "vy": -0.0019386289582521193,
                  "vx": -0.0015022905973887265
                }
              ],
              "link_matrix": {
                "dtype": "float64",
                "shape": [
                  0
                ],
                "type": null
              },
              "link_data": [
                {
                  "source": {
                    "label": "Tipos de apoyo",
                    "shape": "rect",
                    "shape_attrs": {
                      "width": 170,
                      "height": 30,
                      "rx": 5,
                      "ry": 5
                    },
                    "label_display": "center",
                    "value": null,
                    "xval": 0,
                    "yval": 1,
                    "x": 656.5614569557749,
                    "y": 209.3939413970259,
                    "index": 0,
                    "vy": -0.00029950124326719814,
                    "vx": -0.00009894232584030053
                  },
                  "target": {
                    "label": "Desplazamientos",
                    "shape": "rect",
                    "shape_attrs": {
                      "width": 170,
                      "height": 30,
                      "rx": 5,
                      "ry": 5
                    },
                    "label_display": "center",
                    "value": null,
                    "xval": 200,
                    "yval": 3,
                    "x": 625.9295575803148,
                    "y": 298.8966652395413,
                    "index": 20,
                    "vy": -0.0000852273788496802,
                    "vx": 0.001136919286644195
                  },
                  "index": 0
                },
                {
                  "source": {
                    "label": "Fuerzas",
                    "shape": "rect",
                    "shape_attrs": {
                      "width": 170,
                      "height": 30,
                      "rx": 5,
                      "ry": 5
                    },
                    "label_display": "center",
                    "value": null,
                    "xval": 0,
                    "yval": 3,
                    "x": 668.1265194184869,
                    "y": 268.7113684187353,
                    "index": 1,
                    "vy": 0.001064976536400502,
                    "vx": 0.001211229127026632
                  },
                  "target": {
                    "label": "Reacciones",
                    "shape": "rect",
                    "shape_attrs": {
                      "width": 170,
                      "height": 30,
                      "rx": 5,
                      "ry": 5
                    },
                    "label_display": "center",
                    "value": null,
                    "xval": 200,
                    "yval": 1,
                    "x": 586.6914674269652,
                    "y": 219.82367805558258,
                    "index": 19,
                    "vy": -0.001057063319321069,
                    "vx": 0.0027646269936758873
                  },
                  "index": 1
                },
                {
                  "source": {
                    "label": "Momentos",
                    "shape": "rect",
                    "shape_attrs": {
                      "width": 170,
                      "height": 30,
                      "rx": 5,
                      "ry": 5
                    },
                    "label_display": "center",
                    "value": null,
                    "xval": 0,
                    "yval": 5,
                    "x": 668.0607470176069,
                    "y": 268.8004986312383,
                    "index": 2,
                    "vy": 0.001064020616095307,
                    "vx": 0.0012282272112667542
                  },
                  "target": {
                    "label": "Reacciones",
                    "shape": "rect",
                    "shape_attrs": {
                      "width": 170,
                      "height": 30,
                      "rx": 5,
                      "ry": 5
                    },
                    "label_display": "center",
                    "value": null,
                    "xval": 200,
                    "yval": 1,
                    "x": 586.6914674269652,
                    "y": 219.82367805558258,
                    "index": 19,
                    "vy": -0.001057063319321069,
                    "vx": 0.0027646269936758873
                  },
                  "index": 2
                },
                {
                  "source": {
                    "label": "Condiciones de operación",
                    "shape": "rect",
                    "shape_attrs": {
                      "width": 170,
                      "height": 30,
                      "rx": 5,
                      "ry": 5
                    },
                    "label_display": "center",
                    "value": null,
                    "xval": 0,
                    "yval": 9,
                    "x": 656.1483807911633,
                    "y": 295.01647276170706,
                    "index": 4,
                    "vy": -0.00009427414054136457,
                    "vx": 0.0007667465047985777
                  },
                  "target": {
                    "label": "Esfuerzos dinamicos",
                    "shape": "rect",
                    "shape_attrs": {
                      "width": 170,
                      "height": 30,
                      "rx": 5,
                      "ry": 5
                    },
                    "label_display": "center",
                    "value": null,
                    "xval": 200,
                    "yval": 9,
                    "x": 612.2641196624397,
                    "y": 210.89297640329073,
                    "index": 23,
                    "vy": -0.00011330616254654991,
                    "vx": 0.0012423579814732045
                  },
                  "index": 3
                },
                {
                  "source": {
                    "label": "Tratamiento superficial",
                    "shape": "rect",
                    "shape_attrs": {
                      "width": 170,
                      "height": 30,
                      "rx": 5,
                      "ry": 5
                    },
                    "label_display": "center",
                    "value": null,
                    "xval": 0,
                    "yval": 11,
                    "x": 655.955336621133,
                    "y": 295.10827238573125,
                    "index": 5,
                    "vy": -0.0000924948507840008,
                    "vx": 0.0007871138406118609
                  },
                  "target": {
                    "label": "Esfuerzos dinamicos",
                    "shape": "rect",
                    "shape_attrs": {
                      "width": 170,
                      "height": 30,
                      "rx": 5,
                      "ry": 5
                    },
                    "label_display": "center",
                    "value": null,
                    "xval": 200,
                    "yval": 9,
                    "x": 612.2641196624397,
                    "y": 210.89297640329073,
                    "index": 23,
                    "vy": -0.00011330616254654991,
                    "vx": 0.0012423579814732045
                  },
                  "index": 4
                },
                {
                  "source": {
                    "label": "Módulo de elasticidad",
                    "shape": "rect",
                    "shape_attrs": {
                      "width": 170,
                      "height": 30,
                      "rx": 5,
                      "ry": 5
                    },
                    "label_display": "center",
                    "value": null,
                    "xval": 50,
                    "yval": 2,
                    "x": 658.1082833438177,
                    "y": 209.9627075816065,
                    "index": 6,
                    "vy": -0.00037347568978921534,
                    "vx": -0.00020299799099079917
                  },
                  "target": {
                    "label": "Desplazamientos",
                    "shape": "rect",
                    "shape_attrs": {
                      "width": 170,
                      "height": 30,
                      "rx": 5,
                      "ry": 5
                    },
                    "label_display": "center",
                    "value": null,
                    "xval": 200,
                    "yval": 3,
                    "x": 625.9295575803148,
                    "y": 298.8966652395413,
                    "index": 20,
                    "vy": -0.0000852273788496802,
                    "vx": 0.001136919286644195
                  },
                  "index": 5
                },
                {
                  "source": {
                    "label": "Módulo de rigidez",
                    "shape": "rect",
                    "shape_attrs": {
                      "width": 170,
                      "height": 30,
                      "rx": 5,
                      "ry": 5
                    },
                    "label_display": "center",
                    "value": null,
                    "xval": 50,
                    "yval": 4,
                    "x": 660.8120191554575,
                    "y": 211.0294747545385,
                    "index": 7,
                    "vy": -0.0005056285604399028,
                    "vx": -0.00038285456275797
                  },
                  "target": {
                    "label": "Desplazamientos",
                    "shape": "rect",
                    "shape_attrs": {
                      "width": 170,
                      "height": 30,
                      "rx": 5,
                      "ry": 5
                    },
                    "label_display": "center",
                    "value": null,
                    "xval": 200,
                    "yval": 3,
                    "x": 625.9295575803148,
                    "y": 298.8966652395413,
                    "index": 20,
                    "vy": -0.0000852273788496802,
                    "vx": 0.001136919286644195
                  },
                  "index": 6
                },
                {
                  "source": {
                    "label": "Esfuerzo de fluencia",
                    "shape": "rect",
                    "shape_attrs": {
                      "width": 170,
                      "height": 30,
                      "rx": 5,
                      "ry": 5
                    },
                    "label_display": "center",
                    "value": null,
                    "xval": 50,
                    "yval": 6,
                    "x": 668.7269329322502,
                    "y": 217.6550073369457,
                    "index": 8,
                    "vy": -0.0003846890939707908,
                    "vx": 0.0006214208057736847
                  },
                  "target": {
                    "label": "F.S. estaticos",
                    "shape": "rect",
                    "shape_attrs": {
                      "width": 170,
                      "height": 30,
                      "rx": 5,
                      "ry": 5
                    },
                    "label_display": "center",
                    "value": null,
                    "xval": 250,
                    "yval": 2,
                    "x": 605.6956812848673,
                    "y": 277.7559047970903,
                    "index": 25,
                    "vy": -0.00003839982602132689,
                    "vx": 0.0011344428814181002
                  },
                  "index": 7
                },
                {
                  "source": {
                    "label": "Esfuerzo de fluencia",
                    "shape": "rect",
                    "shape_attrs": {
                      "width": 170,
                      "height": 30,
                      "rx": 5,
                      "ry": 5
                    },
                    "label_display": "center",
                    "value": null,
                    "xval": 50,
                    "yval": 6,
                    "x": 668.7269329322502,
                    "y": 217.6550073369457,
                    "index": 8,
                    "vy": -0.0003846890939707908,
                    "vx": 0.0006214208057736847
                  },
                  "target": {
                    "label": "F.S. estaticos minimos",
                    "shape": "rect",
                    "shape_attrs": {
                      "width": 170,
                      "height": 30,
                      "rx": 5,
                      "ry": 5
                    },
                    "label_display": "center",
                    "value": null,
                    "xval": 250,
                    "yval": 4,
                    "x": 623.2301043980925,
                    "y": 298.0855499004584,
                    "index": 26,
                    "vy": -0.00009847833604573197,
                    "vx": 0.0014400575164916277
                  },
                  "index": 8
                },
                {
                  "source": {
                    "label": "Esfuerzo de rotura",
                    "shape": "rect",
                    "shape_attrs": {
                      "width": 170,
                      "height": 30,
                      "rx": 5,
                      "ry": 5
                    },
                    "label_display": "center",
                    "value": null,
                    "xval": 50,
                    "yval": 8,
                    "x": 661.7363034727831,
                    "y": 217.59333885485458,
                    "index": 9,
                    "vy": -0.0001449367484443906,
                    "vx": 0.0009536102676046596
                  },
                  "target": {
                    "label": "F.S. dinamicos",
                    "shape": "rect",
                    "shape_attrs": {
                      "width": 170,
                      "height": 30,
                      "rx": 5,
                      "ry": 5
                    },
                    "label_display": "center",
                    "value": null,
                    "xval": 250,
                    "yval": 6,
                    "x": 628.4195543648219,
                    "y": 302.6117548755467,
                    "index": 27,
                    "vy": -0.0002015963828904399,
                    "vx": 0.001308627926745903
                  },
                  "index": 9
                },
                {
                  "source": {
                    "label": "Esfuerzo de rotura",
                    "shape": "rect",
                    "shape_attrs": {
                      "width": 170,
                      "height": 30,
                      "rx": 5,
                      "ry": 5
                    },
                    "label_display": "center",
                    "value": null,
                    "xval": 50,
                    "yval": 8,
                    "x": 661.7363034727831,
                    "y": 217.59333885485458,
                    "index": 9,
                    "vy": -0.0001449367484443906,
                    "vx": 0.0009536102676046596
                  },
                  "target": {
                    "label": "F.S. dinamicos minimos",
                    "shape": "rect",
                    "shape_attrs": {
                      "width": 170,
                      "height": 30,
                      "rx": 5,
                      "ry": 5
                    },
                    "label_display": "center",
                    "value": null,
                    "xval": 250,
                    "yval": 8,
                    "x": 593.7953493179352,
                    "y": 275.8548641210949,
                    "index": 28,
                    "vy": -0.00022555456373378962,
                    "vx": 0.0010928082013133456
                  },
                  "index": 10
                },
                {
                  "source": {
                    "label": "Densidad",
                    "shape": "rect",
                    "shape_attrs": {
                      "width": 170,
                      "height": 30,
                      "rx": 5,
                      "ry": 5
                    },
                    "label_display": "center",
                    "value": null,
                    "xval": 50,
                    "yval": 10,
                    "x": 667.4196600763734,
                    "y": 214.06691745697427,
                    "index": 10,
                    "vy": -0.0008703899708181261,
                    "vx": -0.000800820978012602
                  },
                  "target": {
                    "label": "Desplazamientos",
                    "shape": "rect",
                    "shape_attrs": {
                      "width": 170,
                      "height": 30,
                      "rx": 5,
                      "ry": 5
                    },
                    "label_display": "center",
                    "value": null,
                    "xval": 200,
                    "yval": 3,
                    "x": 625.9295575803148,
                    "y": 298.8966652395413,
                    "index": 20,
                    "vy": -0.0000852273788496802,
                    "vx": 0.001136919286644195
                  },
                  "index": 11
                },
                {
                  "source": {
                    "label": "Diametro mayor",
                    "shape": "rect",
                    "shape_attrs": {
                      "width": 170,
                      "height": 30,
                      "rx": 5,
                      "ry": 5
                    },
                    "label_display": "center",
                    "value": null,
                    "xval": 100,
                    "yval": 3,
                    "x": 579.9071670837739,
                    "y": 233.44919519476025,
                    "index": 11,
                    "vy": -0.000009807677262688293,
                    "vx": 0.0011214422224016369
                  },
                  "target": {
                    "label": "Primer momento de area",
                    "shape": "rect",
                    "shape_attrs": {
                      "width": 170,
                      "height": 30,
                      "rx": 5,
                      "ry": 5
                    },
                    "label_display": "center",
                    "value": null,
                    "xval": 150,
                    "yval": 3,
                    "x": 635.423541292435,
                    "y": 302.4094160060973,
                    "index": 15,
                    "vy": -0.00023528382367762624,
                    "vx": 0.0011309193572548832
                  },
                  "index": 12
                },
                {
                  "source": {
                    "label": "Diametro mayor",
                    "shape": "rect",
                    "shape_attrs": {
                      "width": 170,
                      "height": 30,
                      "rx": 5,
                      "ry": 5
                    },
                    "label_display": "center",
                    "value": null,
                    "xval": 100,
                    "yval": 3,
                    "x": 579.9071670837739,
                    "y": 233.44919519476025,
                    "index": 11,
                    "vy": -0.000009807677262688293,
                    "vx": 0.0011214422224016369
                  },
                  "target": {
                    "label": "Segundo momento de area",
                    "shape": "rect",
                    "shape_attrs": {
                      "width": 170,
                      "height": 30,
                      "rx": 5,
                      "ry": 5
                    },
                    "label_display": "center",
                    "value": null,
                    "xval": 150,
                    "yval": 5,
                    "x": 635.441197396676,
                    "y": 302.3674139131516,
                    "index": 16,
                    "vy": -0.00020915512381286565,
                    "vx": 0.001129443721910151
                  },
                  "index": 13
                },
                {
                  "source": {
                    "label": "Diametro mayor",
                    "shape": "rect",
                    "shape_attrs": {
                      "width": 170,
                      "height": 30,
                      "rx": 5,
                      "ry": 5
                    },
                    "label_display": "center",
                    "value": null,
                    "xval": 100,
                    "yval": 3,
                    "x": 579.9071670837739,
                    "y": 233.44919519476025,
                    "index": 11,
                    "vy": -0.000009807677262688293,
                    "vx": 0.0011214422224016369
                  },
                  "target": {
                    "label": "Momento polar de inercia",
                    "shape": "rect",
                    "shape_attrs": {
                      "width": 170,
                      "height": 30,
                      "rx": 5,
                      "ry": 5
                    },
                    "label_display": "center",
                    "value": null,
                    "xval": 150,
                    "yval": 7,
                    "x": 635.4589483656655,
                    "y": 302.325289897437,
                    "index": 17,
                    "vy": -0.0001829762564626814,
                    "vx": 0.001127950402814238
                  },
                  "index": 14
                },
                {
                  "source": {
                    "label": "Diametro mayor",
                    "shape": "rect",
                    "shape_attrs": {
                      "width": 170,
                      "height": 30,
                      "rx": 5,
                      "ry": 5
                    },
                    "label_display": "center",
                    "value": null,
                    "xval": 100,
                    "yval": 3,
                    "x": 579.9071670837739,
                    "y": 233.44919519476025,
                    "index": 11,
                    "vy": -0.000009807677262688293,
                    "vx": 0.0011214422224016369
                  },
                  "target": {
                    "label": "Area de la seccion",
                    "shape": "rect",
                    "shape_attrs": {
                      "width": 170,
                      "height": 30,
                      "rx": 5,
                      "ry": 5
                    },
                    "label_display": "center",
                    "value": null,
                    "xval": 150,
                    "yval": 9,
                    "x": 648.6245129331223,
                    "y": 198.94951998993696,
                    "index": 18,
                    "vy": 0.00004294225300551938,
                    "vx": 0.0010140723930333042
                  },
                  "index": 15
                },
                {
                  "source": {
                    "label": "Diametro menor",
                    "shape": "rect",
                    "shape_attrs": {
                      "width": 170,
                      "height": 30,
                      "rx": 5,
                      "ry": 5
                    },
                    "label_display": "center",
                    "value": null,
                    "xval": 100,
                    "yval": 5,
                    "x": 580.0494341756483,
                    "y": 233.37682207870515,
                    "index": 12,
                    "vy": -0.000006598507059252115,
                    "vx": 0.0010698742200965646
                  },
                  "target": {
                    "label": "Primer momento de area",
                    "shape": "rect",
                    "shape_attrs": {
                      "width": 170,
                      "height": 30,
                      "rx": 5,
                      "ry": 5
                    },
                    "label_display": "center",
                    "value": null,
                    "xval": 150,
                    "yval": 3,
                    "x": 635.423541292435,
                    "y": 302.4094160060973,
                    "index": 15,
                    "vy": -0.00023528382367762624,
                    "vx": 0.0011309193572548832
                  },
                  "index": 16
                },
                {
                  "source": {
                    "label": "Diametro menor",
                    "shape": "rect",
                    "shape_attrs": {
                      "width": 170,
                      "height": 30,
                      "rx": 5,
                      "ry": 5
                    },
                    "label_display": "center",
                    "value": null,
                    "xval": 100,
                    "yval": 5,
                    "x": 580.0494341756483,
                    "y": 233.37682207870515,
                    "index": 12,
                    "vy": -0.000006598507059252115,
                    "vx": 0.0010698742200965646
                  },
                  "target": {
                    "label": "Segundo momento de area",
                    "shape": "rect",
                    "shape_attrs": {
                      "width": 170,
                      "height": 30,
                      "rx": 5,
                      "ry": 5
                    },
                    "label_display": "center",
                    "value": null,
                    "xval": 150,
                    "yval": 5,
                    "x": 635.441197396676,
                    "y": 302.3674139131516,
                    "index": 16,
                    "vy": -0.00020915512381286565,
                    "vx": 0.001129443721910151
                  },
                  "index": 17
                },
                {
                  "source": {
                    "label": "Diametro menor",
                    "shape": "rect",
                    "shape_attrs": {
                      "width": 170,
                      "height": 30,
                      "rx": 5,
                      "ry": 5
                    },
                    "label_display": "center",
                    "value": null,
                    "xval": 100,
                    "yval": 5,
                    "x": 580.0494341756483,
                    "y": 233.37682207870515,
                    "index": 12,
                    "vy": -0.000006598507059252115,
                    "vx": 0.0010698742200965646
                  },
                  "target": {
                    "label": "Momento polar de inercia",
                    "shape": "rect",
                    "shape_attrs": {
                      "width": 170,
                      "height": 30,
                      "rx": 5,
                      "ry": 5
                    },
                    "label_display": "center",
                    "value": null,
                    "xval": 150,
                    "yval": 7,
                    "x": 635.4589483656655,
                    "y": 302.325289897437,
                    "index": 17,
                    "vy": -0.0001829762564626814,
                    "vx": 0.001127950402814238
                  },
                  "index": 18
                },
                {
                  "source": {
                    "label": "Diametro menor",
                    "shape": "rect",
                    "shape_attrs": {
                      "width": 170,
                      "height": 30,
                      "rx": 5,
                      "ry": 5
                    },
                    "label_display": "center",
                    "value": null,
                    "xval": 100,
                    "yval": 5,
                    "x": 580.0494341756483,
                    "y": 233.37682207870515,
                    "index": 12,
                    "vy": -0.000006598507059252115,
                    "vx": 0.0010698742200965646
                  },
                  "target": {
                    "label": "Area de la seccion",
                    "shape": "rect",
                    "shape_attrs": {
                      "width": 170,
                      "height": 30,
                      "rx": 5,
                      "ry": 5
                    },
                    "label_display": "center",
                    "value": null,
                    "xval": 150,
                    "yval": 9,
                    "x": 648.6245129331223,
                    "y": 198.94951998993696,
                    "index": 18,
                    "vy": 0.00004294225300551938,
                    "vx": 0.0010140723930333042
                  },
                  "index": 19
                },
                {
                  "source": {
                    "label": "Longitud",
                    "shape": "rect",
                    "shape_attrs": {
                      "width": 170,
                      "height": 30,
                      "rx": 5,
                      "ry": 5
                    },
                    "label_display": "center",
                    "value": null,
                    "xval": 100,
                    "yval": 7,
                    "x": 668.2859800321494,
                    "y": 268.3801471432051,
                    "index": 13,
                    "vy": 0.001115707593670181,
                    "vx": 0.0012342520455925943
                  },
                  "target": {
                    "label": "Reacciones",
                    "shape": "rect",
                    "shape_attrs": {
                      "width": 170,
                      "height": 30,
                      "rx": 5,
                      "ry": 5
                    },
                    "label_display": "center",
                    "value": null,
                    "xval": 200,
                    "yval": 1,
                    "x": 586.6914674269652,
                    "y": 219.82367805558258,
                    "index": 19,
                    "vy": -0.001057063319321069,
                    "vx": 0.0027646269936758873
                  },
                  "index": 20
                },
                {
                  "source": {
                    "label": "Redondeos",
                    "shape": "rect",
                    "shape_attrs": {
                      "width": 170,
                      "height": 30,
                      "rx": 5,
                      "ry": 5
                    },
                    "label_display": "center",
                    "value": null,
                    "xval": 100,
                    "yval": 9,
                    "x": 602.4889395978109,
                    "y": 295.98670256624837,
                    "index": 14,
                    "vy": -0.00017823783013835948,
                    "vx": 0.0011566436000834746
                  },
                  "target": {
                    "label": "Esfuerzos estaticos maximos",
                    "shape": "rect",
                    "shape_attrs": {
                      "width": 170,
                      "height": 30,
                      "rx": 5,
                      "ry": 5
                    },
                    "label_display": "center",
                    "value": null,
                    "xval": 200,
                    "yval": 7,
                    "x": 616.9996584521206,
                    "y": 207.28767647744885,
                    "index": 22,
                    "vy": 0.000006206874889024862,
                    "vx": 0.0010093704809042278
                  },
                  "index": 21
                },
                {
                  "source": {
                    "label": "Redondeos",
                    "shape": "rect",
                    "shape_attrs": {
                      "width": 170,
                      "height": 30,
                      "rx": 5,
                      "ry": 5
                    },
                    "label_display": "center",
                    "value": null,
                    "xval": 100,
                    "yval": 9,
                    "x": 602.4889395978109,
                    "y": 295.98670256624837,
                    "index": 14,
                    "vy": -0.00017823783013835948,
                    "vx": 0.0011566436000834746
                  },
                  "target": {
                    "label": "Esfuerzos dinamicos maximos",
                    "shape": "rect",
                    "shape_attrs": {
                      "width": 170,
                      "height": 30,
                      "rx": 5,
                      "ry": 5
                    },
                    "label_display": "center",
                    "value": null,
                    "xval": 200,
                    "yval": 11,
                    "x": 685.9416997406512,
                    "y": 260.01991787420366,
                    "index": 24,
                    "vy": -0.000008366990754300685,
                    "vx": 0.0010502696441349326
                  },
                  "index": 22
                },
                {
                  "source": {
                    "label": "Primer momento de area",
                    "shape": "rect",
                    "shape_attrs": {
                      "width": 170,
                      "height": 30,
                      "rx": 5,
                      "ry": 5
                    },
                    "label_display": "center",
                    "value": null,
                    "xval": 150,
                    "yval": 3,
                    "x": 635.423541292435,
                    "y": 302.4094160060973,
                    "index": 15,
                    "vy": -0.00023528382367762624,
                    "vx": 0.0011309193572548832
                  },
                  "target": {
                    "label": "Esfuerzos estaticos",
                    "shape": "rect",
                    "shape_attrs": {
                      "width": 170,
                      "height": 30,
                      "rx": 5,
                      "ry": 5
                    },
                    "label_display": "center",
                    "value": null,
                    "xval": 200,
                    "yval": 5,
                    "x": 699.5276350154394,
                    "y": 246.14465281205153,
                    "index": 21,
                    "vy": -0.00015660951592069252,
                    "vx": 0.0010195413118533332
                  },
                  "index": 23
                },
                {
                  "source": {
                    "label": "Primer momento de area",
                    "shape": "rect",
                    "shape_attrs": {
                      "width": 170,
                      "height": 30,
                      "rx": 5,
                      "ry": 5
                    },
                    "label_display": "center",
                    "value": null,
                    "xval": 150,
                    "yval": 3,
                    "x": 635.423541292435,
                    "y": 302.4094160060973,
                    "index": 15,
                    "vy": -0.00023528382367762624,
                    "vx": 0.0011309193572548832
                  },
                  "target": {
                    "label": "Esfuerzos dinamicos",
                    "shape": "rect",
                    "shape_attrs": {
                      "width": 170,
                      "height": 30,
                      "rx": 5,
                      "ry": 5
                    },
                    "label_display": "center",
                    "value": null,
                    "xval": 200,
                    "yval": 9,
                    "x": 612.2641196624397,
                    "y": 210.89297640329073,
                    "index": 23,
                    "vy": -0.00011330616254654991,
                    "vx": 0.0012423579814732045
                  },
                  "index": 24
                },
                {
                  "source": {
                    "label": "Segundo momento de area",
                    "shape": "rect",
                    "shape_attrs": {
                      "width": 170,
                      "height": 30,
                      "rx": 5,
                      "ry": 5
                    },
                    "label_display": "center",
                    "value": null,
                    "xval": 150,
                    "yval": 5,
                    "x": 635.441197396676,
                    "y": 302.3674139131516,
                    "index": 16,
                    "vy": -0.00020915512381286565,
                    "vx": 0.001129443721910151
                  },
                  "target": {
                    "label": "Esfuerzos estaticos",
                    "shape": "rect",
                    "shape_attrs": {
                      "width": 170,
                      "height": 30,
                      "rx": 5,
                      "ry": 5
                    },
                    "label_display": "center",
                    "value": null,
                    "xval": 200,
                    "yval": 5,
                    "x": 699.5276350154394,
                    "y": 246.14465281205153,
                    "index": 21,
                    "vy": -0.00015660951592069252,
                    "vx": 0.0010195413118533332
                  },
                  "index": 25
                },
                {
                  "source": {
                    "label": "Segundo momento de area",
                    "shape": "rect",
                    "shape_attrs": {
                      "width": 170,
                      "height": 30,
                      "rx": 5,
                      "ry": 5
                    },
                    "label_display": "center",
                    "value": null,
                    "xval": 150,
                    "yval": 5,
                    "x": 635.441197396676,
                    "y": 302.3674139131516,
                    "index": 16,
                    "vy": -0.00020915512381286565,
                    "vx": 0.001129443721910151
                  },
                  "target": {
                    "label": "Esfuerzos dinamicos",
                    "shape": "rect",
                    "shape_attrs": {
                      "width": 170,
                      "height": 30,
                      "rx": 5,
                      "ry": 5
                    },
                    "label_display": "center",
                    "value": null,
                    "xval": 200,
                    "yval": 9,
                    "x": 612.2641196624397,
                    "y": 210.89297640329073,
                    "index": 23,
                    "vy": -0.00011330616254654991,
                    "vx": 0.0012423579814732045
                  },
                  "index": 26
                },
                {
                  "source": {
                    "label": "Momento polar de inercia",
                    "shape": "rect",
                    "shape_attrs": {
                      "width": 170,
                      "height": 30,
                      "rx": 5,
                      "ry": 5
                    },
                    "label_display": "center",
                    "value": null,
                    "xval": 150,
                    "yval": 7,
                    "x": 635.4589483656655,
                    "y": 302.325289897437,
                    "index": 17,
                    "vy": -0.0001829762564626814,
                    "vx": 0.001127950402814238
                  },
                  "target": {
                    "label": "Esfuerzos estaticos",
                    "shape": "rect",
                    "shape_attrs": {
                      "width": 170,
                      "height": 30,
                      "rx": 5,
                      "ry": 5
                    },
                    "label_display": "center",
                    "value": null,
                    "xval": 200,
                    "yval": 5,
                    "x": 699.5276350154394,
                    "y": 246.14465281205153,
                    "index": 21,
                    "vy": -0.00015660951592069252,
                    "vx": 0.0010195413118533332
                  },
                  "index": 27
                },
                {
                  "source": {
                    "label": "Momento polar de inercia",
                    "shape": "rect",
                    "shape_attrs": {
                      "width": 170,
                      "height": 30,
                      "rx": 5,
                      "ry": 5
                    },
                    "label_display": "center",
                    "value": null,
                    "xval": 150,
                    "yval": 7,
                    "x": 635.4589483656655,
                    "y": 302.325289897437,
                    "index": 17,
                    "vy": -0.0001829762564626814,
                    "vx": 0.001127950402814238
                  },
                  "target": {
                    "label": "Esfuerzos dinamicos",
                    "shape": "rect",
                    "shape_attrs": {
                      "width": 170,
                      "height": 30,
                      "rx": 5,
                      "ry": 5
                    },
                    "label_display": "center",
                    "value": null,
                    "xval": 200,
                    "yval": 9,
                    "x": 612.2641196624397,
                    "y": 210.89297640329073,
                    "index": 23,
                    "vy": -0.00011330616254654991,
                    "vx": 0.0012423579814732045
                  },
                  "index": 28
                },
                {
                  "source": {
                    "label": "Area de la seccion",
                    "shape": "rect",
                    "shape_attrs": {
                      "width": 170,
                      "height": 30,
                      "rx": 5,
                      "ry": 5
                    },
                    "label_display": "center",
                    "value": null,
                    "xval": 150,
                    "yval": 9,
                    "x": 648.6245129331223,
                    "y": 198.94951998993696,
                    "index": 18,
                    "vy": 0.00004294225300551938,
                    "vx": 0.0010140723930333042
                  },
                  "target": {
                    "label": "Desplazamientos",
                    "shape": "rect",
                    "shape_attrs": {
                      "width": 170,
                      "height": 30,
                      "rx": 5,
                      "ry": 5
                    },
                    "label_display": "center",
                    "value": null,
                    "xval": 200,
                    "yval": 3,
                    "x": 625.9295575803148,
                    "y": 298.8966652395413,
                    "index": 20,
                    "vy": -0.0000852273788496802,
                    "vx": 0.001136919286644195
                  },
                  "index": 29
                },
                {
                  "source": {
                    "label": "Area de la seccion",
                    "shape": "rect",
                    "shape_attrs": {
                      "width": 170,
                      "height": 30,
                      "rx": 5,
                      "ry": 5
                    },
                    "label_display": "center",
                    "value": null,
                    "xval": 150,
                    "yval": 9,
                    "x": 648.6245129331223,
                    "y": 198.94951998993696,
                    "index": 18,
                    "vy": 0.00004294225300551938,
                    "vx": 0.0010140723930333042
                  },
                  "target": {
                    "label": "Esfuerzos estaticos",
                    "shape": "rect",
                    "shape_attrs": {
                      "width": 170,
                      "height": 30,
                      "rx": 5,
                      "ry": 5
                    },
                    "label_display": "center",
                    "value": null,
                    "xval": 200,
                    "yval": 5,
                    "x": 699.5276350154394,
                    "y": 246.14465281205153,
                    "index": 21,
                    "vy": -0.00015660951592069252,
                    "vx": 0.0010195413118533332
                  },
                  "index": 30
                },
                {
                  "source": {
                    "label": "Reacciones",
                    "shape": "rect",
                    "shape_attrs": {
                      "width": 170,
                      "height": 30,
                      "rx": 5,
                      "ry": 5
                    },
                    "label_display": "center",
                    "value": null,
                    "xval": 200,
                    "yval": 1,
                    "x": 586.6914674269652,
                    "y": 219.82367805558258,
                    "index": 19,
                    "vy": -0.001057063319321069,
                    "vx": 0.0027646269936758873
                  },
                  "target": {
                    "label": "Desplazamientos",
                    "shape": "rect",
                    "shape_attrs": {
                      "width": 170,
                      "height": 30,
                      "rx": 5,
                      "ry": 5
                    },
                    "label_display": "center",
                    "value": null,
                    "xval": 200,
                    "yval": 3,
                    "x": 625.9295575803148,
                    "y": 298.8966652395413,
                    "index": 20,
                    "vy": -0.0000852273788496802,
                    "vx": 0.001136919286644195
                  },
                  "index": 31
                },
                {
                  "source": {
                    "label": "Desplazamientos",
                    "shape": "rect",
                    "shape_attrs": {
                      "width": 170,
                      "height": 30,
                      "rx": 5,
                      "ry": 5
                    },
                    "label_display": "center",
                    "value": null,
                    "xval": 200,
                    "yval": 3,
                    "x": 625.9295575803148,
                    "y": 298.8966652395413,
                    "index": 20,
                    "vy": -0.0000852273788496802,
                    "vx": 0.001136919286644195
                  },
                  "target": {
                    "label": "Reacciones",
                    "shape": "rect",
                    "shape_attrs": {
                      "width": 170,
                      "height": 30,
                      "rx": 5,
                      "ry": 5
                    },
                    "label_display": "center",
                    "value": null,
                    "xval": 200,
                    "yval": 1,
                    "x": 586.6914674269652,
                    "y": 219.82367805558258,
                    "index": 19,
                    "vy": -0.001057063319321069,
                    "vx": 0.0027646269936758873
                  },
                  "index": 32
                },
                {
                  "source": {
                    "label": "Desplazamientos",
                    "shape": "rect",
                    "shape_attrs": {
                      "width": 170,
                      "height": 30,
                      "rx": 5,
                      "ry": 5
                    },
                    "label_display": "center",
                    "value": null,
                    "xval": 200,
                    "yval": 3,
                    "x": 625.9295575803148,
                    "y": 298.8966652395413,
                    "index": 20,
                    "vy": -0.0000852273788496802,
                    "vx": 0.001136919286644195
                  },
                  "target": {
                    "label": "Esfuerzos estaticos",
                    "shape": "rect",
                    "shape_attrs": {
                      "width": 170,
                      "height": 30,
                      "rx": 5,
                      "ry": 5
                    },
                    "label_display": "center",
                    "value": null,
                    "xval": 200,
                    "yval": 5,
                    "x": 699.5276350154394,
                    "y": 246.14465281205153,
                    "index": 21,
                    "vy": -0.00015660951592069252,
                    "vx": 0.0010195413118533332
                  },
                  "index": 33
                },
                {
                  "source": {
                    "label": "Desplazamientos",
                    "shape": "rect",
                    "shape_attrs": {
                      "width": 170,
                      "height": 30,
                      "rx": 5,
                      "ry": 5
                    },
                    "label_display": "center",
                    "value": null,
                    "xval": 200,
                    "yval": 3,
                    "x": 625.9295575803148,
                    "y": 298.8966652395413,
                    "index": 20,
                    "vy": -0.0000852273788496802,
                    "vx": 0.001136919286644195
                  },
                  "target": {
                    "label": "Esfuerzos dinamicos",
                    "shape": "rect",
                    "shape_attrs": {
                      "width": 170,
                      "height": 30,
                      "rx": 5,
                      "ry": 5
                    },
                    "label_display": "center",
                    "value": null,
                    "xval": 200,
                    "yval": 9,
                    "x": 612.2641196624397,
                    "y": 210.89297640329073,
                    "index": 23,
                    "vy": -0.00011330616254654991,
                    "vx": 0.0012423579814732045
                  },
                  "index": 34
                },
                {
                  "source": {
                    "label": "Desplazamientos",
                    "shape": "rect",
                    "shape_attrs": {
                      "width": 170,
                      "height": 30,
                      "rx": 5,
                      "ry": 5
                    },
                    "label_display": "center",
                    "value": null,
                    "xval": 200,
                    "yval": 3,
                    "x": 625.9295575803148,
                    "y": 298.8966652395413,
                    "index": 20,
                    "vy": -0.0000852273788496802,
                    "vx": 0.001136919286644195
                  },
                  "target": {
                    "label": "Velocidades criticas",
                    "shape": "rect",
                    "shape_attrs": {
                      "width": 170,
                      "height": 30,
                      "rx": 5,
                      "ry": 5
                    },
                    "label_display": "center",
                    "value": null,
                    "xval": 250,
                    "yval": 10,
                    "x": 681.4894418884862,
                    "y": 222.97742555520742,
                    "index": 29,
                    "vy": -0.0019386289582521193,
                    "vx": -0.0015022905973887265
                  },
                  "index": 35
                },
                {
                  "source": {
                    "label": "Esfuerzos estaticos",
                    "shape": "rect",
                    "shape_attrs": {
                      "width": 170,
                      "height": 30,
                      "rx": 5,
                      "ry": 5
                    },
                    "label_display": "center",
                    "value": null,
                    "xval": 200,
                    "yval": 5,
                    "x": 699.5276350154394,
                    "y": 246.14465281205153,
                    "index": 21,
                    "vy": -0.00015660951592069252,
                    "vx": 0.0010195413118533332
                  },
                  "target": {
                    "label": "Esfuerzos estaticos maximos",
                    "shape": "rect",
                    "shape_attrs": {
                      "width": 170,
                      "height": 30,
                      "rx": 5,
                      "ry": 5
                    },
                    "label_display": "center",
                    "value": null,
                    "xval": 200,
                    "yval": 7,
                    "x": 616.9996584521206,
                    "y": 207.28767647744885,
                    "index": 22,
                    "vy": 0.000006206874889024862,
                    "vx": 0.0010093704809042278
                  },
                  "index": 36
                },
                {
                  "source": {
                    "label": "Esfuerzos estaticos",
                    "shape": "rect",
                    "shape_attrs": {
                      "width": 170,
                      "height": 30,
                      "rx": 5,
                      "ry": 5
                    },
                    "label_display": "center",
                    "value": null,
                    "xval": 200,
                    "yval": 5,
                    "x": 699.5276350154394,
                    "y": 246.14465281205153,
                    "index": 21,
                    "vy": -0.00015660951592069252,
                    "vx": 0.0010195413118533332
                  },
                  "target": {
                    "label": "F.S. estaticos",
                    "shape": "rect",
                    "shape_attrs": {
                      "width": 170,
                      "height": 30,
                      "rx": 5,
                      "ry": 5
                    },
                    "label_display": "center",
                    "value": null,
                    "xval": 250,
                    "yval": 2,
                    "x": 605.6956812848673,
                    "y": 277.7559047970903,
                    "index": 25,
                    "vy": -0.00003839982602132689,
                    "vx": 0.0011344428814181002
                  },
                  "index": 37
                },
                {
                  "source": {
                    "label": "Esfuerzos estaticos maximos",
                    "shape": "rect",
                    "shape_attrs": {
                      "width": 170,
                      "height": 30,
                      "rx": 5,
                      "ry": 5
                    },
                    "label_display": "center",
                    "value": null,
                    "xval": 200,
                    "yval": 7,
                    "x": 616.9996584521206,
                    "y": 207.28767647744885,
                    "index": 22,
                    "vy": 0.000006206874889024862,
                    "vx": 0.0010093704809042278
                  },
                  "target": {
                    "label": "F.S. estaticos minimos",
                    "shape": "rect",
                    "shape_attrs": {
                      "width": 170,
                      "height": 30,
                      "rx": 5,
                      "ry": 5
                    },
                    "label_display": "center",
                    "value": null,
                    "xval": 250,
                    "yval": 4,
                    "x": 623.2301043980925,
                    "y": 298.0855499004584,
                    "index": 26,
                    "vy": -0.00009847833604573197,
                    "vx": 0.0014400575164916277
                  },
                  "index": 38
                },
                {
                  "source": {
                    "label": "Esfuerzos dinamicos",
                    "shape": "rect",
                    "shape_attrs": {
                      "width": 170,
                      "height": 30,
                      "rx": 5,
                      "ry": 5
                    },
                    "label_display": "center",
                    "value": null,
                    "xval": 200,
                    "yval": 9,
                    "x": 612.2641196624397,
                    "y": 210.89297640329073,
                    "index": 23,
                    "vy": -0.00011330616254654991,
                    "vx": 0.0012423579814732045
                  },
                  "target": {
                    "label": "Esfuerzos dinamicos maximos",
                    "shape": "rect",
                    "shape_attrs": {
                      "width": 170,
                      "height": 30,
                      "rx": 5,
                      "ry": 5
                    },
                    "label_display": "center",
                    "value": null,
                    "xval": 200,
                    "yval": 11,
                    "x": 685.9416997406512,
                    "y": 260.01991787420366,
                    "index": 24,
                    "vy": -0.000008366990754300685,
                    "vx": 0.0010502696441349326
                  },
                  "index": 39
                },
                {
                  "source": {
                    "label": "Esfuerzos dinamicos",
                    "shape": "rect",
                    "shape_attrs": {
                      "width": 170,
                      "height": 30,
                      "rx": 5,
                      "ry": 5
                    },
                    "label_display": "center",
                    "value": null,
                    "xval": 200,
                    "yval": 9,
                    "x": 612.2641196624397,
                    "y": 210.89297640329073,
                    "index": 23,
                    "vy": -0.00011330616254654991,
                    "vx": 0.0012423579814732045
                  },
                  "target": {
                    "label": "F.S. dinamicos",
                    "shape": "rect",
                    "shape_attrs": {
                      "width": 170,
                      "height": 30,
                      "rx": 5,
                      "ry": 5
                    },
                    "label_display": "center",
                    "value": null,
                    "xval": 250,
                    "yval": 6,
                    "x": 628.4195543648219,
                    "y": 302.6117548755467,
                    "index": 27,
                    "vy": -0.0002015963828904399,
                    "vx": 0.001308627926745903
                  },
                  "index": 40
                },
                {
                  "source": {
                    "label": "Esfuerzos dinamicos maximos",
                    "shape": "rect",
                    "shape_attrs": {
                      "width": 170,
                      "height": 30,
                      "rx": 5,
                      "ry": 5
                    },
                    "label_display": "center",
                    "value": null,
                    "xval": 200,
                    "yval": 11,
                    "x": 685.9416997406512,
                    "y": 260.01991787420366,
                    "index": 24,
                    "vy": -0.000008366990754300685,
                    "vx": 0.0010502696441349326
                  },
                  "target": {
                    "label": "F.S. dinamicos minimos",
                    "shape": "rect",
                    "shape_attrs": {
                      "width": 170,
                      "height": 30,
                      "rx": 5,
                      "ry": 5
                    },
                    "label_display": "center",
                    "value": null,
                    "xval": 250,
                    "yval": 8,
                    "x": 593.7953493179352,
                    "y": 275.8548641210949,
                    "index": 28,
                    "vy": -0.00022555456373378962,
                    "vx": 0.0010928082013133456
                  },
                  "index": 41
                }
              ],
              "charge": -600,
              "link_type": "slant_line",
              "colors": [
                "#F1948A",
                "#F1948A",
                "#F1948A",
                "#F4D03F",
                "#F1948A",
                "#F1948A",
                "#82E0AA",
                "#82E0AA",
                "#82E0AA",
                "#82E0AA",
                "#82E0AA",
                "#7FB3D5",
                "#7FB3D5",
                "#7FB3D5",
                "#7FB3D5",
                "#E5E7E9",
                "#E5E7E9",
                "#E5E7E9",
                "#E5E7E9",
                "#E5E7E9",
                "#E5E7E9",
                "#E5E7E9",
                "#E5E7E9",
                "#E5E7E9",
                "#E5E7E9",
                "#E5E7E9",
                "#E5E7E9",
                "#E5E7E9",
                "#E5E7E9",
                "#E5E7E9"
              ],
              "x": {
                "dtype": "int32",
                "shape": [
                  30
                ],
                "type": null
              },
              "y": {
                "dtype": "float64",
                "shape": [
                  30
                ],
                "type": null
              },
              "link_color": {
                "dtype": "float64",
                "shape": [
                  0
                ],
                "type": null
              },
              "hovered_style": {
                "stroke": "black",
                "stroke-width": "3"
              },
              "static": false,
              "unhovered_style": {
                "opacity": "0.1"
              }
            },
            "buffers": [
              {
                "data": "",
                "path": [
                  "link_matrix",
                  "value"
                ],
                "encoding": "base64"
              },
              {
                "data": "AAAAAAAAAAAAAAAAAAAAAAAAAAAAAAAAMgAAADIAAAAyAAAAMgAAADIAAABkAAAAZAAAAGQAAABkAAAAlgAAAJYAAACWAAAAlgAAAMgAAADIAAAAyAAAAMgAAADIAAAAyAAAAPoAAAD6AAAA+gAAAPoAAAD6AAAA",
                "path": [
                  "x",
                  "value"
                ],
                "encoding": "base64"
              },
              {
                "data": "AAAAAAAA8D8AAAAAAAAIQAAAAAAAABRAAAAAAAAAHEAAAAAAAAAiQAAAAAAAACZAAAAAAAAAAEAAAAAAAAAQQAAAAAAAABhAAAAAAAAAIEAAAAAAAAAkQAAAAAAAAAhAAAAAAAAAFEAAAAAAAAAcQAAAAAAAACJAAAAAAAAACEAAAAAAAAAUQAAAAAAAABxAAAAAAAAAIkAAAAAAAADwPwAAAAAAAAhAAAAAAAAAFEAAAAAAAAAcQAAAAAAAACJAAAAAAAAAJkAAAAAAAAAAQAAAAAAAABBAAAAAAAAAGEAAAAAAAAAgQAAAAAAAACRA",
                "path": [
                  "y",
                  "value"
                ],
                "encoding": "base64"
              },
              {
                "data": "",
                "path": [
                  "link_color",
                  "value"
                ],
                "encoding": "base64"
              }
            ]
          },
          "7b5d7f4b473643a5922480098733a10d": {
            "model_name": "LayoutModel",
            "model_module": "@jupyter-widgets/base",
            "model_module_version": "2.0.0",
            "state": {
              "height": "600px",
              "width": "1400px"
            }
          },
          "d58abd8f3c3d453aa455da63274c718f": {
            "model_name": "LinearScaleModel",
            "model_module": "bqplot",
            "model_module_version": "^0.5",
            "state": {
              "_model_module_version": "^0.5",
              "_view_module_version": "^0.5",
              "allow_padding": false,
              "min": 0,
              "max": 1,
              "stabilized": false
            }
          },
          "b18b6dce1397463baee00bdf1102f2b4": {
            "model_name": "LinearScaleModel",
            "model_module": "bqplot",
            "model_module_version": "^0.5",
            "state": {
              "_model_module_version": "^0.5",
              "_view_module_version": "^0.5",
              "allow_padding": false,
              "min": 0,
              "max": 1,
              "stabilized": false
            }
          },
          "953476c4120f482a91ecf3d69fde3b9c": {
            "model_name": "FigureModel",
            "model_module": "bqplot",
            "model_module_version": "^0.5",
            "state": {
              "_model_module_version": "^0.5",
              "_view_module_version": "^0.5",
              "title": "Dependencias",
              "marks": [
                "IPY_MODEL_9b0b820c240b4cbbb9a1317fb28afc21"
              ],
              "scale_x": "IPY_MODEL_d58abd8f3c3d453aa455da63274c718f",
              "scale_y": "IPY_MODEL_b18b6dce1397463baee00bdf1102f2b4",
              "layout": "IPY_MODEL_7b5d7f4b473643a5922480098733a10d"
            }
          }
        }
      }
    }
  },
  "nbformat_minor": 4,
  "nbformat": 4,
  "cells": [
    {
      "cell_type": "code",
      "source": "import ipywidgets as ipw\nimport bqplot as bqp\nimport numpy as np",
      "metadata": {
        "tags": [],
        "trusted": true
      },
      "execution_count": 1,
      "outputs": []
    },
    {
      "cell_type": "code",
      "source": "HTMLMath1 = ipw.HTMLMath(\n    value = r\"<font size = '3'; font color = 'black'>$Q=\\frac{D^3-d^3}{12}$\",\n)\nHTMLMath2 = ipw.HTMLMath(\n    value = r\"<font size = '3'; font color = 'black'>$I=\\frac{\\pi \\left(D^4-d^4\\right)}{64}$\",\n)\nHTMLMath3 = ipw.HTMLMath(\n    value = r\"<font size = '3'; font color = 'black'>$J=\\frac{\\pi \\left(D^4-d^4\\right)}{32}$\",\n)\nHTMLMath4 = ipw.HTMLMath(\n    value = r\"<font size = '3'; font color = 'black'>$A=\\frac{\\pi \\left(D^4-d^4\\right)}{4}$\",\n)\nHTMLMath5 = ipw.HTMLMath(\n    value = r\"<font size = '3'; font color = 'black'>${M_k}(x) =  - x\\sum\\limits_{i = 1}^k {{F_i}}  - \\frac{1}{2}{w_k}{(x - {x_k})^2} - x\\sum\\limits_{i = 0}^{k - 1} {{w_i}({x_{i + 1}} - {x_i})}  + {C_{{1_k}}} + {M_k}\\quad para\\;k = 1\\; \\to \\;T$\",\n)\nHTMLMath6 = ipw.HTMLMath(\n    value = r\"<font size = '3'; font color = 'black'>${y_k}(x) = \\frac{{ - \\frac{{{x^3}}}{6}\\sum\\limits_{i = 1}^k {{F_i}}  - \\frac{1}{{24}}{w_k}{{(x - {x_k})}^4} - \\frac{{{x^3}}}{6}\\sum\\limits_{i = 0}^{k - 1} {{w_i}({x_{i + 1}} - {x_i})}  + \\frac{{{C_{{1_k}}}{x^2}}}{2} + \\frac{{{M_k}{x^2}}}{2} + {C_{{2_k}}}x + {C_{{3_k}}}}}{{{E_k}{I_k}}}\\;$\",\n)\nHTMLMath7 = ipw.HTMLMath(\n    value = r\"<font size = '3'; font color = 'black'>${\\sigma _k} = \\frac{{M{{(x)}_k}{R_k}}}{{{I_k}}}\\quad para\\;k = 1\\; \\to \\;T$\",\n)\nHTMLMath8 = ipw.HTMLMath(\n    value = r\"<font size = '3'; font color = 'black'>${\\sigma _{{{\\max }_X}}} = {K_x}\\frac{{M{{(x)}_x}{R_x}}}{{{I_x}}}\\quad para\\;x = 1\\; \\to \\;N$\",\n)\nHTMLMath9 = ipw.HTMLMath(\n    value = r\"<font size = '3'; font color = 'black'>${\\sigma _k} = \\frac{{S{y_k}}}{{S{e_k}}}(\\sqrt {M_k^2(x) + 4V_k^2(x)}  + \\sqrt {A_k^2(x) + 4T_k^2(x)} )\\quad para\\;k = 1\\; \\to \\;T$\",\n)\nHTMLMath10 = ipw.HTMLMath(\n    value = r\"<font size = '3'; font color = 'black'>${\\sigma _{{{\\max }_X}}} = {K_x}\\frac{{S{y_x}}}{{S{e_x}}}(\\sqrt {M_x^2(x) + 4V_x^2(x)}  + \\sqrt {A_x^2(x) + 4T_x^2(x)} )\\quad para\\;x = 1\\; \\to \\;N$\",\n)\nHTMLMath11 = ipw.HTMLMath(\n    value = r\"<font size = '3'; font color = 'black'>$F.S{._{estatic{o_K}}} = \\frac{{S{u_k}}}{{{\\sigma _k}}}\\quad para\\;k = 1\\; \\to \\;T$\",\n)\nHTMLMath12 = ipw.HTMLMath(\n    value = r\"<font size = '3'; font color = 'black'>$F.S{._{estatico\\;{{\\min }_X}}} = \\frac{{S{u_x}}}{{{\\sigma _{{{\\max }_X}}}}}\\quad para\\;x = 1\\; \\to \\;N$\",\n)\nHTMLMath13 = ipw.HTMLMath(\n    value = r\"<font size = '3'; font color = 'black'>$F.S{._{dinamic{o_K}}} = \\frac{{S{u_k}}}{{{\\sigma _k}}}\\quad para\\;k = 1\\; \\to \\;T$\",\n)\nHTMLMath14 = ipw.HTMLMath(\n    value = r\"<font size = '3'; font color = 'black'>$F.S{._{dinamico\\;{{\\min }_X}}} = \\frac{{S{u_x}}}{{{\\sigma _{{{\\max }_X}}}}}\\quad para\\;x = 1\\; \\to \\;N$\",\n)\nHTMLMath15 = ipw.HTMLMath(\n    value = r\"<font size = '3'; font color = 'black'>$V.C. = \\sum\\limits_{k = 1}^T {\\int\\limits_{{N_k}}^{{N_{k + 1}}} {(y_y^2{{(x)}_k}} }  + y_z^2{(x)_k})$\",\n)\n\ndef hide_formula(self, target):\n    graph.tooltip = None\n\ndef show_formula(self, target):\n    name = target.get('data').get('label') \n    if name == 'Primer momento de area':\n        graph.tooltip = HTMLMath1\n    elif name == 'Segundo momento de area':\n        graph.tooltip = HTMLMath2\n    elif name == 'Momento polar de inercia':\n        graph.tooltip = HTMLMath3\n    elif name == 'Area de la seccion':\n        graph.tooltip = HTMLMath4\n    elif name == 'Reacciones':\n        graph.tooltip = HTMLMath5\n    elif name == 'Desplazamientos':\n        graph.tooltip = HTMLMath6\n    elif name == 'Esfuerzos estaticos':\n        graph.tooltip = HTMLMath7\n    elif name == 'Esfuerzos estaticos maximos':\n        graph.tooltip = HTMLMath8\n    elif name == 'Esfuerzos dinamicos':\n        graph.tooltip = HTMLMath9\n    elif name == 'Esfuerzos dinamicos maximos':\n        graph.tooltip = HTMLMath10\n    elif name == 'F.S. estaticos':\n        graph.tooltip = HTMLMath11\n    elif name == 'F.S. estaticos minimos':\n        graph.tooltip = HTMLMath12\n    elif name == 'F.S. dinamicos':\n        graph.tooltip = HTMLMath13\n    elif name == 'F.S. dinamicos minimos':\n        graph.tooltip = HTMLMath14\n    elif name == 'Velocidades criticas':\n        graph.tooltip = HTMLMath15\n    else:\n        graph.tooltip = None\n\nnode_data = [\n    {'label': 'Tipos de apoyo', 'shape': 'rect', 'shape_attrs': {'rx': 5, 'ry': 5, 'width': 170, 'height': 30}},\n    {'label': 'Fuerzas', 'shape': 'rect', 'shape_attrs': {'rx': 5, 'ry': 5, 'width': 170, 'height': 30}},\n    {'label': 'Momentos', 'shape': 'rect', 'shape_attrs': {'rx': 5, 'ry': 5, 'width': 170, 'height': 30}},\n    {'label': 'Numero de nodos', 'shape': 'rect', 'shape_attrs': {'rx': 5, 'ry': 5, 'width': 170, 'height': 30}},\n    {'label': 'Condiciones de operación', 'shape': 'rect', 'shape_attrs': {'rx': 5, 'ry': 5, 'width': 170, 'height': 30}},\n    {'label': 'Tratamiento superficial', 'shape': 'rect', 'shape_attrs': {'rx': 5, 'ry': 5, 'width': 170, 'height': 30}},\n    {'label': 'Módulo de elasticidad', 'shape': 'rect', 'shape_attrs': {'rx': 5, 'ry': 5, 'width': 170, 'height': 30}},\n    {'label': 'Módulo de rigidez', 'shape': 'rect', 'shape_attrs': {'rx': 5, 'ry': 5, 'width': 170, 'height': 30}},\n    {'label': 'Esfuerzo de fluencia', 'shape': 'rect', 'shape_attrs': {'rx': 5, 'ry': 5, 'width': 170, 'height': 30}},\n    {'label': 'Esfuerzo de rotura', 'shape': 'rect', 'shape_attrs': {'rx': 5, 'ry': 5, 'width': 170, 'height': 30}},\n    {'label': 'Densidad', 'shape': 'rect', 'shape_attrs': {'rx': 5, 'ry': 5, 'width': 170, 'height': 30}},\n    {'label': 'Diametro mayor', 'shape': 'rect', 'shape_attrs': {'rx': 5, 'ry': 5, 'width': 170, 'height': 30}},\n    {'label': 'Diametro menor', 'shape': 'rect', 'shape_attrs': {'rx': 5, 'ry': 5, 'width': 170, 'height': 30}},\n    {'label': 'Longitud', 'shape': 'rect', 'shape_attrs': {'rx': 5, 'ry': 5, 'width': 170, 'height': 30}},\n    {'label': 'Redondeos', 'shape': 'rect', 'shape_attrs': {'rx': 5, 'ry': 5, 'width': 170, 'height': 30}},\n    {'label': 'Primer momento de area', 'shape': 'rect', 'shape_attrs': {'rx': 5, 'ry': 5, 'width': 170, 'height': 30}},\n    {'label': 'Segundo momento de area', 'shape': 'rect', 'shape_attrs': {'rx': 5, 'ry': 5, 'width': 170, 'height': 30}},\n    {'label': 'Momento polar de inercia', 'shape': 'rect', 'shape_attrs': {'rx': 5, 'ry': 5, 'width': 170, 'height': 30}},\n    {'label': 'Area de la seccion', 'shape': 'rect', 'shape_attrs': {'rx': 5, 'ry': 5, 'width': 170, 'height': 30}},\n    {'label': 'Reacciones', 'shape': 'rect', 'shape_attrs': {'rx': 5, 'ry': 5, 'width': 170, 'height': 30}},\n    {'label': 'Desplazamientos', 'shape': 'rect', 'shape_attrs': {'rx': 5, 'ry': 5, 'width': 170, 'height': 30}},\n    {'label': 'Esfuerzos estaticos', 'shape': 'rect', 'shape_attrs': {'rx': 5, 'ry': 5, 'width': 170, 'height': 30}},\n    {'label': 'Esfuerzos estaticos maximos', 'shape': 'rect', 'shape_attrs': {'rx': 5, 'ry': 5, 'width': 170, 'height': 30}},\n    {'label': 'Esfuerzos dinamicos', 'shape': 'rect', 'shape_attrs': {'rx': 5, 'ry': 5, 'width': 170, 'height': 30}},\n    {'label': 'Esfuerzos dinamicos maximos', 'shape': 'rect', 'shape_attrs': {'rx': 5, 'ry': 5, 'width': 170, 'height': 30}},\n    {'label': 'F.S. estaticos', 'shape': 'rect', 'shape_attrs': {'rx': 5, 'ry': 5, 'width': 170, 'height': 30}},\n    {'label': 'F.S. estaticos minimos', 'shape': 'rect', 'shape_attrs': {'rx': 5, 'ry': 5, 'width': 170, 'height': 30}},\n    {'label': 'F.S. dinamicos', 'shape': 'rect', 'shape_attrs': {'rx': 5, 'ry': 5, 'width': 170, 'height': 30}},\n    {'label': 'F.S. dinamicos minimos', 'shape': 'rect', 'shape_attrs': {'rx': 5, 'ry': 5, 'width': 170, 'height': 30}},\n    {'label': 'Velocidades criticas', 'shape': 'rect', 'shape_attrs': {'rx': 5, 'ry': 5, 'width': 170, 'height': 30}},\n]\n\nlink_data = [{'source': 0, 'target': 20},\n             {'source': 1, 'target': 19},\n             {'source': 2, 'target': 19},\n             {'source': 4, 'target': 23},\n             {'source': 5, 'target': 23},\n             {'source': 6, 'target': 20},\n             {'source': 7, 'target': 20},\n             {'source': 8, 'target': 25},\n             {'source': 8, 'target': 26},\n             {'source': 9, 'target': 27},\n             {'source': 9, 'target': 28},\n             {'source': 10, 'target': 20},\n             {'source': 11, 'target': 15},\n             {'source': 11, 'target': 16},\n             {'source': 11, 'target': 17},\n             {'source': 11, 'target': 18},\n             {'source': 12, 'target': 15},\n             {'source': 12, 'target': 16},\n             {'source': 12, 'target': 17},\n             {'source': 12, 'target': 18},\n             {'source': 13, 'target': 19},\n             {'source': 14, 'target': 22},\n             {'source': 14, 'target': 24},\n             {'source': 15, 'target': 21},\n             {'source': 15, 'target': 23},\n             {'source': 16, 'target': 21},\n             {'source': 16, 'target': 23},\n             {'source': 17, 'target': 21},\n             {'source': 17, 'target': 23},\n             {'source': 18, 'target': 20},\n             {'source': 18, 'target': 21},\n             {'source': 19, 'target': 20},\n             {'source': 20, 'target': 19},\n             {'source': 20, 'target': 21},\n             {'source': 20, 'target': 23},\n             {'source': 20, 'target': 29},\n             {'source': 21, 'target': 22},\n             {'source': 21, 'target': 25},\n             {'source': 22, 'target': 26},\n             {'source': 23, 'target': 24},\n             {'source': 23, 'target': 27},\n             {'source': 24, 'target': 28}]\n\nx = np.concatenate((np.array([0] * 6), np.array([50] * 5), np.array([100] * 4), np.array([150] * 4), np.array([200] * 6), np.array([250] * 5)))\ny = np.concatenate((np.linspace(1, 2 * 6 - 1, 6), np.linspace(2, 2 * 5, 5), np.linspace(3, 2 * 4 + 1, 4), np.linspace(3, 2 * 4 + 1, 4), np.linspace(1, 2 * 6 - 1, 6), np.linspace(2, 2 * 5, 5)))\ngraph = bqp.Graph(node_data = node_data, link_data = link_data, link_type = 'slant_line', hovered_style = {'stroke': 'black', 'stroke-width': '3'}, unhovered_style = {'opacity': '0.1'},\n              colors=['#F1948A'] * 3 + ['#F4D03F'] * 1 + ['#F1948A'] * 2 + ['#82E0AA'] * 5 + ['#7FB3D5'] * 4 + ['#E5E7E9'] * (len(node_data) - 15),\n              scales={'x': bqp.LinearScale(), 'y': bqp.LinearScale(), }, x = x, y = y, \n              directed = True)\nfig2 = bqp.Figure(title = 'Dependencias', marks = [graph], layout = ipw.Layout(width='1400px', height='600px'))\ngraph.on_hover(show_formula)\ngraph.on_element_click(hide_formula)\ndisplay(fig2)",
      "metadata": {
        "tags": [],
        "trusted": true
      },
      "execution_count": 2,
      "outputs": [
        {
          "output_type": "display_data",
          "data": {
            "text/plain": "Figure(fig_margin={'top': 60, 'bottom': 60, 'left': 60, 'right': 60}, layout=Layout(height='600px', width='140…",
            "application/vnd.jupyter.widget-view+json": {
              "version_major": 2,
              "version_minor": 0,
              "model_id": "4ad448e05fc2468692227df2b5123294"
            }
          },
          "metadata": {}
        }
      ]
    }
  ]
}